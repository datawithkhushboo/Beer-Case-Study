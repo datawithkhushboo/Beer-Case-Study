{
  "nbformat": 4,
  "nbformat_minor": 0,
  "metadata": {
    "colab": {
      "provenance": [],
      "collapsed_sections": [
        "zJj2wUvH9BO2",
        "TQh4rWsGZA8k"
      ],
      "include_colab_link": true
    },
    "kernelspec": {
      "name": "python3",
      "display_name": "Python 3"
    },
    "language_info": {
      "name": "python"
    }
  },
  "cells": [
    {
      "cell_type": "markdown",
      "metadata": {
        "id": "view-in-github",
        "colab_type": "text"
      },
      "source": [
        "<a href=\"https://colab.research.google.com/github/datawithkhushboo/Beer-Case-Study/blob/main/Beer_Case_Study.ipynb\" target=\"_parent\"><img src=\"https://colab.research.google.com/assets/colab-badge.svg\" alt=\"Open In Colab\"/></a>"
      ]
    },
    {
      "cell_type": "markdown",
      "source": [
        "Name = Khushboo Chaurasiya\n",
        "\n",
        "\n",
        "\n"
      ],
      "metadata": {
        "id": "W2TETnchISOf"
      }
    },
    {
      "cell_type": "markdown",
      "source": [
        "#**Problem Statement**\n",
        "\n",
        ">**Our objective is to build a Machine Learning model which predicts the overall rating of the beer**.\n",
        "\n",
        "\n",
        "![image](https://boomelomedia.com/wp-content/uploads/2021/07/Blog-thumbnails-2-1-1024x576.jpg)"
      ],
      "metadata": {
        "id": "BjSR3yTz9hVR"
      }
    },
    {
      "cell_type": "markdown",
      "source": [
        "#Data Fields"
      ],
      "metadata": {
        "id": "TQh4rWsGZA8k"
      }
    },
    {
      "cell_type": "markdown",
      "source": [
        "● Index - an identifier for the review\n",
        "\n",
        "● beer/ABV - the alcohol by volume of the beer\n",
        "\n",
        "● beer/beerId - a unique ID indicating the\n",
        "beer reviewed\n",
        "\n",
        "● beer/brewerId - a unique ID indicating the brewery\n",
        "\n",
        "● beer/name - name of the beer\n",
        "\n",
        "● beer/style\n",
        "\n",
        "● review/appearance - rating of the beer's appearance (1.0 to 5.0)\n",
        "\n",
        "● review/aroma - rating of the beer's aroma (1.0 to 5.0)\n",
        "\n",
        "● review/overall - rating of the beer overall (1.0 to 5.0)\n",
        "\n",
        "● review/palate - rating of the beer's palate (1.0 to 5.0)\n",
        "\n",
        "● review/taste - rating of the beer's taste (1.0 to 5.0)\n",
        "\n",
        "● review/text - the text of the review\n",
        "\n",
        "● review/timeStruct - a dict specifying when the review was submitted\n",
        "\n",
        "● review/time Unix\n",
        "\n",
        "● user/ageInSeconds - age of the user in seconds\n",
        "\n",
        "● user/birthday Raw\n",
        "\n",
        "● user/birthday Unix\n",
        "\n",
        "● user/gender - gender of the user (if specified)\n",
        "\n",
        "● user/profile Name - profile name of the user\n"
      ],
      "metadata": {
        "id": "eaS8eQeCYMop"
      }
    },
    {
      "cell_type": "markdown",
      "source": [
        "#Import Essential Libraries"
      ],
      "metadata": {
        "id": "Fj0m5K8tZjXM"
      }
    },
    {
      "cell_type": "code",
      "execution_count": null,
      "metadata": {
        "id": "FUp4Lw_p3XNF",
        "colab": {
          "base_uri": "https://localhost:8080/"
        },
        "outputId": "6317c75d-f66c-4e51-d916-902a1126c8f7"
      },
      "outputs": [
        {
          "output_type": "stream",
          "name": "stderr",
          "text": [
            "[nltk_data] Downloading package stopwords to /root/nltk_data...\n",
            "[nltk_data]   Unzipping corpora/stopwords.zip.\n",
            "[nltk_data] Downloading package punkt to /root/nltk_data...\n",
            "[nltk_data]   Unzipping tokenizers/punkt.zip.\n"
          ]
        }
      ],
      "source": [
        "import pandas as pd\n",
        "import numpy as np\n",
        "import matplotlib.pyplot as plt\n",
        "import seaborn as sns\n",
        "from datetime import timezone\n",
        "import time\n",
        "from datetime import datetime\n",
        "import statistics as st\n",
        "from nltk.stem.porter import PorterStemmer\n",
        "from sklearn.preprocessing import StandardScaler\n",
        "import re\n",
        "import nltk\n",
        "nltk.download('stopwords')\n",
        "from nltk.corpus import stopwords\n",
        "stop_words = stopwords.words('english')\n",
        "from sklearn.model_selection import train_test_split\n",
        "from sklearn.feature_extraction.text import TfidfVectorizer, CountVectorizer\n",
        "from scipy.sparse import hstack\n",
        "from sklearn.model_selection import GridSearchCV\n",
        "from sklearn import preprocessing,model_selection, metrics\n",
        "import xgboost as xgb\n",
        "nltk.download('punkt')\n",
        "from pandas.api.types import CategoricalDtype"
      ]
    },
    {
      "cell_type": "markdown",
      "source": [
        "#Load Dataset"
      ],
      "metadata": {
        "id": "tYmWngWcZtMZ"
      }
    },
    {
      "cell_type": "code",
      "source": [
        "from google.colab import drive\n",
        "drive.mount('/content/drive')"
      ],
      "metadata": {
        "id": "Il1UKJx7W_6K",
        "colab": {
          "base_uri": "https://localhost:8080/"
        },
        "outputId": "a14b7968-ae57-4bc1-9f7a-c4054382c9cd"
      },
      "execution_count": null,
      "outputs": [
        {
          "output_type": "stream",
          "name": "stdout",
          "text": [
            "Mounted at /content/drive\n"
          ]
        }
      ]
    },
    {
      "cell_type": "code",
      "source": [
        "\n",
        "df = pd.read_csv('drive/MyDrive/Beer-Case Study/train.csv')\n"
      ],
      "metadata": {
        "id": "MjY6eLVIIHot"
      },
      "execution_count": null,
      "outputs": []
    },
    {
      "cell_type": "code",
      "source": [
        "df.sample(5)"
      ],
      "metadata": {
        "id": "YriS6YSSIHs4",
        "colab": {
          "base_uri": "https://localhost:8080/"
        },
        "outputId": "642720f7-00ab-46e8-dc1b-1cb9682c4777"
      },
      "execution_count": null,
      "outputs": [
        {
          "output_type": "execute_result",
          "data": {
            "text/plain": [
              "       index  beer/ABV  beer/beerId  beer/brewerId                 beer/name  \\\n",
              "23026  20723       8.3        11757           1199  Founders Breakfast Stout   \n",
              "9850    1060       3.5          436            163              Amstel Light   \n",
              "35241  20941       8.3        11757           1199  Founders Breakfast Stout   \n",
              "633    22183       8.3        11757           1199  Founders Breakfast Stout   \n",
              "28479  23211       8.5         7463           1199    Founders Dirty Bastard   \n",
              "\n",
              "                             beer/style  review/appearance  review/aroma  \\\n",
              "23026  American Double / Imperial Stout                4.5           4.5   \n",
              "9850                        Light Lager                2.0           2.0   \n",
              "35241  American Double / Imperial Stout                4.0           4.5   \n",
              "633    American Double / Imperial Stout                4.5           4.5   \n",
              "28479            Scotch Ale / Wee Heavy                4.5           4.0   \n",
              "\n",
              "       review/overall  review/palate  review/taste  \\\n",
              "23026             5.0            4.5           5.0   \n",
              "9850              3.0            2.0           2.5   \n",
              "35241             4.0            4.0           4.0   \n",
              "633               3.5            4.0           4.5   \n",
              "28479             3.5            3.5           3.5   \n",
              "\n",
              "                                             review/text  \\\n",
              "23026  Appearance: Poured a nice black color, with gr...   \n",
              "9850   Well it's time to review another \"regular\" bee...   \n",
              "35241  Tried this one on tap at Moe's Tavern in Lee, ...   \n",
              "633    Served from tap to 12.oz snifter (Should have ...   \n",
              "28479  Poured from a bottle dated 5/24/11 into a Noni...   \n",
              "\n",
              "                                       review/timeStruct  review/timeUnix  \\\n",
              "23026  {'min': 33, 'hour': 21, 'mday': 18, 'sec': 53,...       1232314433   \n",
              "9850   {'min': 35, 'hour': 1, 'mday': 26, 'sec': 34, ...       1217036134   \n",
              "35241  {'min': 11, 'hour': 2, 'mday': 18, 'sec': 52, ...       1224295912   \n",
              "633    {'min': 7, 'hour': 17, 'mday': 4, 'sec': 11, '...       1291482431   \n",
              "28479  {'min': 20, 'hour': 22, 'mday': 16, 'sec': 47,...       1313533247   \n",
              "\n",
              "       user/ageInSeconds user/birthdayRaw  user/birthdayUnix user/gender  \\\n",
              "23026       1.017673e+09     Sep 12, 1982        400662000.0        Male   \n",
              "9850                 NaN              NaN                NaN         NaN   \n",
              "35241                NaN              NaN                NaN         NaN   \n",
              "633                  NaN              NaN                NaN         NaN   \n",
              "28479                NaN              NaN                NaN         NaN   \n",
              "\n",
              "      user/profileName  \n",
              "23026       krisandajt  \n",
              "9850        Reagan1984  \n",
              "35241    HopEnthusiast  \n",
              "633          Brewmeist  \n",
              "28479            DrewV  "
            ],
            "text/html": [
              "\n",
              "  <div id=\"df-c5651ddf-c388-45ab-862d-8fed6cdcfe2e\" class=\"colab-df-container\">\n",
              "    <div>\n",
              "<style scoped>\n",
              "    .dataframe tbody tr th:only-of-type {\n",
              "        vertical-align: middle;\n",
              "    }\n",
              "\n",
              "    .dataframe tbody tr th {\n",
              "        vertical-align: top;\n",
              "    }\n",
              "\n",
              "    .dataframe thead th {\n",
              "        text-align: right;\n",
              "    }\n",
              "</style>\n",
              "<table border=\"1\" class=\"dataframe\">\n",
              "  <thead>\n",
              "    <tr style=\"text-align: right;\">\n",
              "      <th></th>\n",
              "      <th>index</th>\n",
              "      <th>beer/ABV</th>\n",
              "      <th>beer/beerId</th>\n",
              "      <th>beer/brewerId</th>\n",
              "      <th>beer/name</th>\n",
              "      <th>beer/style</th>\n",
              "      <th>review/appearance</th>\n",
              "      <th>review/aroma</th>\n",
              "      <th>review/overall</th>\n",
              "      <th>review/palate</th>\n",
              "      <th>review/taste</th>\n",
              "      <th>review/text</th>\n",
              "      <th>review/timeStruct</th>\n",
              "      <th>review/timeUnix</th>\n",
              "      <th>user/ageInSeconds</th>\n",
              "      <th>user/birthdayRaw</th>\n",
              "      <th>user/birthdayUnix</th>\n",
              "      <th>user/gender</th>\n",
              "      <th>user/profileName</th>\n",
              "    </tr>\n",
              "  </thead>\n",
              "  <tbody>\n",
              "    <tr>\n",
              "      <th>23026</th>\n",
              "      <td>20723</td>\n",
              "      <td>8.3</td>\n",
              "      <td>11757</td>\n",
              "      <td>1199</td>\n",
              "      <td>Founders Breakfast Stout</td>\n",
              "      <td>American Double / Imperial Stout</td>\n",
              "      <td>4.5</td>\n",
              "      <td>4.5</td>\n",
              "      <td>5.0</td>\n",
              "      <td>4.5</td>\n",
              "      <td>5.0</td>\n",
              "      <td>Appearance: Poured a nice black color, with gr...</td>\n",
              "      <td>{'min': 33, 'hour': 21, 'mday': 18, 'sec': 53,...</td>\n",
              "      <td>1232314433</td>\n",
              "      <td>1.017673e+09</td>\n",
              "      <td>Sep 12, 1982</td>\n",
              "      <td>400662000.0</td>\n",
              "      <td>Male</td>\n",
              "      <td>krisandajt</td>\n",
              "    </tr>\n",
              "    <tr>\n",
              "      <th>9850</th>\n",
              "      <td>1060</td>\n",
              "      <td>3.5</td>\n",
              "      <td>436</td>\n",
              "      <td>163</td>\n",
              "      <td>Amstel Light</td>\n",
              "      <td>Light Lager</td>\n",
              "      <td>2.0</td>\n",
              "      <td>2.0</td>\n",
              "      <td>3.0</td>\n",
              "      <td>2.0</td>\n",
              "      <td>2.5</td>\n",
              "      <td>Well it's time to review another \"regular\" bee...</td>\n",
              "      <td>{'min': 35, 'hour': 1, 'mday': 26, 'sec': 34, ...</td>\n",
              "      <td>1217036134</td>\n",
              "      <td>NaN</td>\n",
              "      <td>NaN</td>\n",
              "      <td>NaN</td>\n",
              "      <td>NaN</td>\n",
              "      <td>Reagan1984</td>\n",
              "    </tr>\n",
              "    <tr>\n",
              "      <th>35241</th>\n",
              "      <td>20941</td>\n",
              "      <td>8.3</td>\n",
              "      <td>11757</td>\n",
              "      <td>1199</td>\n",
              "      <td>Founders Breakfast Stout</td>\n",
              "      <td>American Double / Imperial Stout</td>\n",
              "      <td>4.0</td>\n",
              "      <td>4.5</td>\n",
              "      <td>4.0</td>\n",
              "      <td>4.0</td>\n",
              "      <td>4.0</td>\n",
              "      <td>Tried this one on tap at Moe's Tavern in Lee, ...</td>\n",
              "      <td>{'min': 11, 'hour': 2, 'mday': 18, 'sec': 52, ...</td>\n",
              "      <td>1224295912</td>\n",
              "      <td>NaN</td>\n",
              "      <td>NaN</td>\n",
              "      <td>NaN</td>\n",
              "      <td>NaN</td>\n",
              "      <td>HopEnthusiast</td>\n",
              "    </tr>\n",
              "    <tr>\n",
              "      <th>633</th>\n",
              "      <td>22183</td>\n",
              "      <td>8.3</td>\n",
              "      <td>11757</td>\n",
              "      <td>1199</td>\n",
              "      <td>Founders Breakfast Stout</td>\n",
              "      <td>American Double / Imperial Stout</td>\n",
              "      <td>4.5</td>\n",
              "      <td>4.5</td>\n",
              "      <td>3.5</td>\n",
              "      <td>4.0</td>\n",
              "      <td>4.5</td>\n",
              "      <td>Served from tap to 12.oz snifter (Should have ...</td>\n",
              "      <td>{'min': 7, 'hour': 17, 'mday': 4, 'sec': 11, '...</td>\n",
              "      <td>1291482431</td>\n",
              "      <td>NaN</td>\n",
              "      <td>NaN</td>\n",
              "      <td>NaN</td>\n",
              "      <td>NaN</td>\n",
              "      <td>Brewmeist</td>\n",
              "    </tr>\n",
              "    <tr>\n",
              "      <th>28479</th>\n",
              "      <td>23211</td>\n",
              "      <td>8.5</td>\n",
              "      <td>7463</td>\n",
              "      <td>1199</td>\n",
              "      <td>Founders Dirty Bastard</td>\n",
              "      <td>Scotch Ale / Wee Heavy</td>\n",
              "      <td>4.5</td>\n",
              "      <td>4.0</td>\n",
              "      <td>3.5</td>\n",
              "      <td>3.5</td>\n",
              "      <td>3.5</td>\n",
              "      <td>Poured from a bottle dated 5/24/11 into a Noni...</td>\n",
              "      <td>{'min': 20, 'hour': 22, 'mday': 16, 'sec': 47,...</td>\n",
              "      <td>1313533247</td>\n",
              "      <td>NaN</td>\n",
              "      <td>NaN</td>\n",
              "      <td>NaN</td>\n",
              "      <td>NaN</td>\n",
              "      <td>DrewV</td>\n",
              "    </tr>\n",
              "  </tbody>\n",
              "</table>\n",
              "</div>\n",
              "    <div class=\"colab-df-buttons\">\n",
              "\n",
              "  <div class=\"colab-df-container\">\n",
              "    <button class=\"colab-df-convert\" onclick=\"convertToInteractive('df-c5651ddf-c388-45ab-862d-8fed6cdcfe2e')\"\n",
              "            title=\"Convert this dataframe to an interactive table.\"\n",
              "            style=\"display:none;\">\n",
              "\n",
              "  <svg xmlns=\"http://www.w3.org/2000/svg\" height=\"24px\" viewBox=\"0 -960 960 960\">\n",
              "    <path d=\"M120-120v-720h720v720H120Zm60-500h600v-160H180v160Zm220 220h160v-160H400v160Zm0 220h160v-160H400v160ZM180-400h160v-160H180v160Zm440 0h160v-160H620v160ZM180-180h160v-160H180v160Zm440 0h160v-160H620v160Z\"/>\n",
              "  </svg>\n",
              "    </button>\n",
              "\n",
              "  <style>\n",
              "    .colab-df-container {\n",
              "      display:flex;\n",
              "      gap: 12px;\n",
              "    }\n",
              "\n",
              "    .colab-df-convert {\n",
              "      background-color: #E8F0FE;\n",
              "      border: none;\n",
              "      border-radius: 50%;\n",
              "      cursor: pointer;\n",
              "      display: none;\n",
              "      fill: #1967D2;\n",
              "      height: 32px;\n",
              "      padding: 0 0 0 0;\n",
              "      width: 32px;\n",
              "    }\n",
              "\n",
              "    .colab-df-convert:hover {\n",
              "      background-color: #E2EBFA;\n",
              "      box-shadow: 0px 1px 2px rgba(60, 64, 67, 0.3), 0px 1px 3px 1px rgba(60, 64, 67, 0.15);\n",
              "      fill: #174EA6;\n",
              "    }\n",
              "\n",
              "    .colab-df-buttons div {\n",
              "      margin-bottom: 4px;\n",
              "    }\n",
              "\n",
              "    [theme=dark] .colab-df-convert {\n",
              "      background-color: #3B4455;\n",
              "      fill: #D2E3FC;\n",
              "    }\n",
              "\n",
              "    [theme=dark] .colab-df-convert:hover {\n",
              "      background-color: #434B5C;\n",
              "      box-shadow: 0px 1px 3px 1px rgba(0, 0, 0, 0.15);\n",
              "      filter: drop-shadow(0px 1px 2px rgba(0, 0, 0, 0.3));\n",
              "      fill: #FFFFFF;\n",
              "    }\n",
              "  </style>\n",
              "\n",
              "    <script>\n",
              "      const buttonEl =\n",
              "        document.querySelector('#df-c5651ddf-c388-45ab-862d-8fed6cdcfe2e button.colab-df-convert');\n",
              "      buttonEl.style.display =\n",
              "        google.colab.kernel.accessAllowed ? 'block' : 'none';\n",
              "\n",
              "      async function convertToInteractive(key) {\n",
              "        const element = document.querySelector('#df-c5651ddf-c388-45ab-862d-8fed6cdcfe2e');\n",
              "        const dataTable =\n",
              "          await google.colab.kernel.invokeFunction('convertToInteractive',\n",
              "                                                    [key], {});\n",
              "        if (!dataTable) return;\n",
              "\n",
              "        const docLinkHtml = 'Like what you see? Visit the ' +\n",
              "          '<a target=\"_blank\" href=https://colab.research.google.com/notebooks/data_table.ipynb>data table notebook</a>'\n",
              "          + ' to learn more about interactive tables.';\n",
              "        element.innerHTML = '';\n",
              "        dataTable['output_type'] = 'display_data';\n",
              "        await google.colab.output.renderOutput(dataTable, element);\n",
              "        const docLink = document.createElement('div');\n",
              "        docLink.innerHTML = docLinkHtml;\n",
              "        element.appendChild(docLink);\n",
              "      }\n",
              "    </script>\n",
              "  </div>\n",
              "\n",
              "\n",
              "<div id=\"df-e114c9f0-cebf-4ada-a58e-0f52235762ed\">\n",
              "  <button class=\"colab-df-quickchart\" onclick=\"quickchart('df-e114c9f0-cebf-4ada-a58e-0f52235762ed')\"\n",
              "            title=\"Suggest charts.\"\n",
              "            style=\"display:none;\">\n",
              "\n",
              "<svg xmlns=\"http://www.w3.org/2000/svg\" height=\"24px\"viewBox=\"0 0 24 24\"\n",
              "     width=\"24px\">\n",
              "    <g>\n",
              "        <path d=\"M19 3H5c-1.1 0-2 .9-2 2v14c0 1.1.9 2 2 2h14c1.1 0 2-.9 2-2V5c0-1.1-.9-2-2-2zM9 17H7v-7h2v7zm4 0h-2V7h2v10zm4 0h-2v-4h2v4z\"/>\n",
              "    </g>\n",
              "</svg>\n",
              "  </button>\n",
              "\n",
              "<style>\n",
              "  .colab-df-quickchart {\n",
              "      --bg-color: #E8F0FE;\n",
              "      --fill-color: #1967D2;\n",
              "      --hover-bg-color: #E2EBFA;\n",
              "      --hover-fill-color: #174EA6;\n",
              "      --disabled-fill-color: #AAA;\n",
              "      --disabled-bg-color: #DDD;\n",
              "  }\n",
              "\n",
              "  [theme=dark] .colab-df-quickchart {\n",
              "      --bg-color: #3B4455;\n",
              "      --fill-color: #D2E3FC;\n",
              "      --hover-bg-color: #434B5C;\n",
              "      --hover-fill-color: #FFFFFF;\n",
              "      --disabled-bg-color: #3B4455;\n",
              "      --disabled-fill-color: #666;\n",
              "  }\n",
              "\n",
              "  .colab-df-quickchart {\n",
              "    background-color: var(--bg-color);\n",
              "    border: none;\n",
              "    border-radius: 50%;\n",
              "    cursor: pointer;\n",
              "    display: none;\n",
              "    fill: var(--fill-color);\n",
              "    height: 32px;\n",
              "    padding: 0;\n",
              "    width: 32px;\n",
              "  }\n",
              "\n",
              "  .colab-df-quickchart:hover {\n",
              "    background-color: var(--hover-bg-color);\n",
              "    box-shadow: 0 1px 2px rgba(60, 64, 67, 0.3), 0 1px 3px 1px rgba(60, 64, 67, 0.15);\n",
              "    fill: var(--button-hover-fill-color);\n",
              "  }\n",
              "\n",
              "  .colab-df-quickchart-complete:disabled,\n",
              "  .colab-df-quickchart-complete:disabled:hover {\n",
              "    background-color: var(--disabled-bg-color);\n",
              "    fill: var(--disabled-fill-color);\n",
              "    box-shadow: none;\n",
              "  }\n",
              "\n",
              "  .colab-df-spinner {\n",
              "    border: 2px solid var(--fill-color);\n",
              "    border-color: transparent;\n",
              "    border-bottom-color: var(--fill-color);\n",
              "    animation:\n",
              "      spin 1s steps(1) infinite;\n",
              "  }\n",
              "\n",
              "  @keyframes spin {\n",
              "    0% {\n",
              "      border-color: transparent;\n",
              "      border-bottom-color: var(--fill-color);\n",
              "      border-left-color: var(--fill-color);\n",
              "    }\n",
              "    20% {\n",
              "      border-color: transparent;\n",
              "      border-left-color: var(--fill-color);\n",
              "      border-top-color: var(--fill-color);\n",
              "    }\n",
              "    30% {\n",
              "      border-color: transparent;\n",
              "      border-left-color: var(--fill-color);\n",
              "      border-top-color: var(--fill-color);\n",
              "      border-right-color: var(--fill-color);\n",
              "    }\n",
              "    40% {\n",
              "      border-color: transparent;\n",
              "      border-right-color: var(--fill-color);\n",
              "      border-top-color: var(--fill-color);\n",
              "    }\n",
              "    60% {\n",
              "      border-color: transparent;\n",
              "      border-right-color: var(--fill-color);\n",
              "    }\n",
              "    80% {\n",
              "      border-color: transparent;\n",
              "      border-right-color: var(--fill-color);\n",
              "      border-bottom-color: var(--fill-color);\n",
              "    }\n",
              "    90% {\n",
              "      border-color: transparent;\n",
              "      border-bottom-color: var(--fill-color);\n",
              "    }\n",
              "  }\n",
              "</style>\n",
              "\n",
              "  <script>\n",
              "    async function quickchart(key) {\n",
              "      const quickchartButtonEl =\n",
              "        document.querySelector('#' + key + ' button');\n",
              "      quickchartButtonEl.disabled = true;  // To prevent multiple clicks.\n",
              "      quickchartButtonEl.classList.add('colab-df-spinner');\n",
              "      try {\n",
              "        const charts = await google.colab.kernel.invokeFunction(\n",
              "            'suggestCharts', [key], {});\n",
              "      } catch (error) {\n",
              "        console.error('Error during call to suggestCharts:', error);\n",
              "      }\n",
              "      quickchartButtonEl.classList.remove('colab-df-spinner');\n",
              "      quickchartButtonEl.classList.add('colab-df-quickchart-complete');\n",
              "    }\n",
              "    (() => {\n",
              "      let quickchartButtonEl =\n",
              "        document.querySelector('#df-e114c9f0-cebf-4ada-a58e-0f52235762ed button');\n",
              "      quickchartButtonEl.style.display =\n",
              "        google.colab.kernel.accessAllowed ? 'block' : 'none';\n",
              "    })();\n",
              "  </script>\n",
              "</div>\n",
              "    </div>\n",
              "  </div>\n"
            ]
          },
          "metadata": {},
          "execution_count": 4
        }
      ]
    },
    {
      "cell_type": "markdown",
      "source": [
        "# **Understand the Data**"
      ],
      "metadata": {
        "id": "SWvECflIX-lB"
      }
    },
    {
      "cell_type": "code",
      "source": [
        " df.shape"
      ],
      "metadata": {
        "id": "7RTVCa30IH0n",
        "colab": {
          "base_uri": "https://localhost:8080/"
        },
        "outputId": "f53f4c9e-c11f-4bc1-fb05-05e94b1115be"
      },
      "execution_count": null,
      "outputs": [
        {
          "output_type": "execute_result",
          "data": {
            "text/plain": [
              "(37500, 19)"
            ]
          },
          "metadata": {},
          "execution_count": 5
        }
      ]
    },
    {
      "cell_type": "markdown",
      "source": [
        "\n",
        "**shape of the Data**\n",
        "> Row = 37500\n",
        "\n",
        "> Columns = 19"
      ],
      "metadata": {
        "id": "V17kcC_gac8P"
      }
    },
    {
      "cell_type": "code",
      "source": [
        "df.duplicated().sum()"
      ],
      "metadata": {
        "colab": {
          "base_uri": "https://localhost:8080/"
        },
        "id": "GkLI8fcVYC6-",
        "outputId": "7857106f-1806-4231-c9d7-5e0158cbe06c"
      },
      "execution_count": null,
      "outputs": [
        {
          "output_type": "execute_result",
          "data": {
            "text/plain": [
              "0"
            ]
          },
          "metadata": {},
          "execution_count": 6
        }
      ]
    },
    {
      "cell_type": "markdown",
      "source": [
        "There is no dublicate values in the data"
      ],
      "metadata": {
        "id": "zE7CuX3raw1X"
      }
    },
    {
      "cell_type": "code",
      "source": [
        "df.isnull().sum()"
      ],
      "metadata": {
        "colab": {
          "base_uri": "https://localhost:8080/"
        },
        "id": "MRzcOOCMYICI",
        "outputId": "e027bed2-290c-4d7f-85ce-d1fe26a4f952"
      },
      "execution_count": null,
      "outputs": [
        {
          "output_type": "execute_result",
          "data": {
            "text/plain": [
              "index                    0\n",
              "beer/ABV                 0\n",
              "beer/beerId              0\n",
              "beer/brewerId            0\n",
              "beer/name                0\n",
              "beer/style               0\n",
              "review/appearance        0\n",
              "review/aroma             0\n",
              "review/overall           0\n",
              "review/palate            0\n",
              "review/taste             0\n",
              "review/text             10\n",
              "review/timeStruct        0\n",
              "review/timeUnix          0\n",
              "user/ageInSeconds    29644\n",
              "user/birthdayRaw     29644\n",
              "user/birthdayUnix    29644\n",
              "user/gender          22186\n",
              "user/profileName         5\n",
              "dtype: int64"
            ]
          },
          "metadata": {},
          "execution_count": 7
        }
      ]
    },
    {
      "cell_type": "markdown",
      "source": [
        " Null values exists in following fields\n",
        "\n",
        "\n",
        "\n",
        "---\n",
        "\n",
        "\n",
        "\n",
        "\n",
        " >review/text     -      10\n",
        "\n",
        "\n",
        ">user/ageInSeconds   -      29644\n",
        "\n",
        ">user/birthdayRaw     -   29644\n",
        "\n",
        ">user/birthdayUnix     -  29644\n",
        "\n",
        ">user/gender            -  22186\n",
        "\n",
        "> user/profileName       - 5\n",
        "\n",
        "\n"
      ],
      "metadata": {
        "id": "ricN6Qhja5RH"
      }
    },
    {
      "cell_type": "code",
      "source": [
        "df.info()"
      ],
      "metadata": {
        "colab": {
          "base_uri": "https://localhost:8080/"
        },
        "id": "higWrsMdYL4g",
        "outputId": "66fb93cf-ab7a-4ffd-ebca-b10b1866ccd6"
      },
      "execution_count": null,
      "outputs": [
        {
          "output_type": "stream",
          "name": "stdout",
          "text": [
            "<class 'pandas.core.frame.DataFrame'>\n",
            "RangeIndex: 37500 entries, 0 to 37499\n",
            "Data columns (total 19 columns):\n",
            " #   Column             Non-Null Count  Dtype  \n",
            "---  ------             --------------  -----  \n",
            " 0   index              37500 non-null  int64  \n",
            " 1   beer/ABV           37500 non-null  float64\n",
            " 2   beer/beerId        37500 non-null  int64  \n",
            " 3   beer/brewerId      37500 non-null  int64  \n",
            " 4   beer/name          37500 non-null  object \n",
            " 5   beer/style         37500 non-null  object \n",
            " 6   review/appearance  37500 non-null  float64\n",
            " 7   review/aroma       37500 non-null  float64\n",
            " 8   review/overall     37500 non-null  float64\n",
            " 9   review/palate      37500 non-null  float64\n",
            " 10  review/taste       37500 non-null  float64\n",
            " 11  review/text        37490 non-null  object \n",
            " 12  review/timeStruct  37500 non-null  object \n",
            " 13  review/timeUnix    37500 non-null  int64  \n",
            " 14  user/ageInSeconds  7856 non-null   float64\n",
            " 15  user/birthdayRaw   7856 non-null   object \n",
            " 16  user/birthdayUnix  7856 non-null   float64\n",
            " 17  user/gender        15314 non-null  object \n",
            " 18  user/profileName   37495 non-null  object \n",
            "dtypes: float64(8), int64(4), object(7)\n",
            "memory usage: 5.4+ MB\n"
          ]
        }
      ]
    },
    {
      "cell_type": "markdown",
      "source": [
        " there are some columns which are not in proper data type"
      ],
      "metadata": {
        "id": "q2vwjiriblg9"
      }
    },
    {
      "cell_type": "code",
      "source": [
        "#checking data is imbalance or not\n",
        "ax = sns.countplot(x = 'review/overall',data =df, color='red')\n",
        "for i in ax.containers:\n",
        "  ax.bar_label(i)\n",
        "plt.show()\n"
      ],
      "metadata": {
        "colab": {
          "base_uri": "https://localhost:8080/"
        },
        "id": "pp4z3DpFcE-V",
        "outputId": "0513b95b-fe46-44ad-d206-04b2cc095abb"
      },
      "execution_count": null,
      "outputs": [
        {
          "output_type": "display_data",
          "data": {
            "text/plain": [
              "<Figure size 640x480 with 1 Axes>"
            ],
            "image/png": "[encoded data removed]"
          },
          "metadata": {}
        }
      ]
    },
    {
      "cell_type": "markdown",
      "source": [
        "Imbalanced Data\n",
        "\n",
        "\n",
        "> Maximum rating = 4\n",
        "\n",
        "> Minimum Rating = 0"
      ],
      "metadata": {
        "id": "p58Uz3b0dR0F"
      }
    },
    {
      "cell_type": "markdown",
      "source": [
        "# Data Cleaning\n",
        "\n"
      ],
      "metadata": {
        "id": "-L2aFDfcYhSZ"
      }
    },
    {
      "cell_type": "markdown",
      "source": [
        "### Handle  wrong format  and null values"
      ],
      "metadata": {
        "id": "tMI0L_CqYreo"
      }
    },
    {
      "cell_type": "code",
      "source": [
        "df['user/birthdayRaw'] = pd.to_datetime(df['user/birthdayRaw'],errors='coerce')"
      ],
      "metadata": {
        "id": "Vhpdtt5cY3D_"
      },
      "execution_count": null,
      "outputs": []
    },
    {
      "cell_type": "code",
      "source": [
        "sg = df[df['user/birthdayRaw'].notnull()]"
      ],
      "metadata": {
        "id": "mu00asC-ZrbD"
      },
      "execution_count": null,
      "outputs": []
    },
    {
      "cell_type": "code",
      "source": [
        "c=[]\n",
        "for i in sg['user/birthdayRaw']:\n",
        "  c.append(time.mktime(i.timetuple()))\n",
        "\n",
        "def Average(lst):\n",
        "    return sum(lst) / len(lst)\n",
        "mean =  Average(c)"
      ],
      "metadata": {
        "id": "Wn3Wibo6eNuE"
      },
      "execution_count": null,
      "outputs": []
    },
    {
      "cell_type": "code",
      "source": [
        "df['user/ageInSeconds'].fillna(df['user/ageInSeconds'].median(), inplace=True)\n",
        "df['user/birthdayRaw'].fillna(mean, inplace=True)\n",
        "df['user/birthdayUnix'].fillna(df['user/birthdayUnix'].median(), inplace=True)\n",
        "df['user/gender'].fillna('missing', inplace=True)"
      ],
      "metadata": {
        "id": "voq8l8YTfjeI"
      },
      "execution_count": null,
      "outputs": []
    },
    {
      "cell_type": "code",
      "source": [
        "df = df.dropna()"
      ],
      "metadata": {
        "id": "sy8PIw7UgD0z"
      },
      "execution_count": null,
      "outputs": []
    },
    {
      "cell_type": "code",
      "source": [
        "df.head()"
      ],
      "metadata": {
        "colab": {
          "base_uri": "https://localhost:8080/"
        },
        "id": "4p6DKyyMgL8L",
        "outputId": "a93709dc-be01-4db9-cf8a-881fd694eeeb"
      },
      "execution_count": null,
      "outputs": [
        {
          "output_type": "execute_result",
          "data": {
            "text/plain": [
              "   index  beer/ABV  beer/beerId  beer/brewerId                  beer/name  \\\n",
              "0  40163       5.0        46634          14338                   Chiostro   \n",
              "1   8135      11.0         3003            395   Bearded Pat's Barleywine   \n",
              "2  10529       4.7          961            365       Naughty Nellie's Ale   \n",
              "3  44610       4.4          429              1            Pilsner Urquell   \n",
              "4  37062       4.4         4904           1417  Black Sheep Ale (Special)   \n",
              "\n",
              "                beer/style  review/appearance  review/aroma  review/overall  \\\n",
              "0     Herbed / Spiced Beer                4.0           4.0             4.0   \n",
              "1      American Barleywine                4.0           3.5             3.5   \n",
              "2  American Pale Ale (APA)                3.5           4.0             3.5   \n",
              "3           Czech Pilsener                3.0           3.0             2.5   \n",
              "4         English Pale Ale                4.0           3.0             3.0   \n",
              "\n",
              "   review/palate  review/taste  \\\n",
              "0            4.0           4.0   \n",
              "1            3.5           3.0   \n",
              "2            3.5           3.5   \n",
              "3            3.0           3.0   \n",
              "4            3.5           2.5   \n",
              "\n",
              "                                         review/text  \\\n",
              "0  Pours a clouded gold with a thin white head. N...   \n",
              "1  12oz bottle into 8oz snifter.\\t\\tDeep ruby red...   \n",
              "2  First enjoyed at the brewpub about 2 years ago...   \n",
              "3  First thing I noticed after pouring from green...   \n",
              "4  A: pours an amber with a one finger head but o...   \n",
              "\n",
              "                                   review/timeStruct  review/timeUnix  \\\n",
              "0  {'min': 38, 'hour': 3, 'mday': 16, 'sec': 10, ...       1229398690   \n",
              "1  {'min': 38, 'hour': 23, 'mday': 8, 'sec': 58, ...       1218238738   \n",
              "2  {'min': 7, 'hour': 18, 'mday': 26, 'sec': 2, '...       1101492422   \n",
              "3  {'min': 7, 'hour': 1, 'mday': 20, 'sec': 5, 'y...       1308532025   \n",
              "4  {'min': 51, 'hour': 6, 'mday': 12, 'sec': 48, ...       1299912708   \n",
              "\n",
              "   user/ageInSeconds     user/birthdayRaw  user/birthdayUnix user/gender  \\\n",
              "0       1.100009e+09     241603445.621181        318326400.0     missing   \n",
              "1       1.100009e+09     241603445.621181        318326400.0     missing   \n",
              "2       1.100009e+09     241603445.621181        318326400.0        Male   \n",
              "3       1.209827e+09  1976-08-10 00:00:00        208508400.0        Male   \n",
              "4       1.100009e+09     241603445.621181        318326400.0     missing   \n",
              "\n",
              "  user/profileName  \n",
              "0       RblWthACoz  \n",
              "1          BeerSox  \n",
              "2       mschofield  \n",
              "3        molegar76  \n",
              "4       Brewbro000  "
            ],
            "text/html": [
              "\n",
              "  <div id=\"df-b254e737-a0d6-4bad-bbd9-54dfb97d5b67\" class=\"colab-df-container\">\n",
              "    <div>\n",
              "<style scoped>\n",
              "    .dataframe tbody tr th:only-of-type {\n",
              "        vertical-align: middle;\n",
              "    }\n",
              "\n",
              "    .dataframe tbody tr th {\n",
              "        vertical-align: top;\n",
              "    }\n",
              "\n",
              "    .dataframe thead th {\n",
              "        text-align: right;\n",
              "    }\n",
              "</style>\n",
              "<table border=\"1\" class=\"dataframe\">\n",
              "  <thead>\n",
              "    <tr style=\"text-align: right;\">\n",
              "      <th></th>\n",
              "      <th>index</th>\n",
              "      <th>beer/ABV</th>\n",
              "      <th>beer/beerId</th>\n",
              "      <th>beer/brewerId</th>\n",
              "      <th>beer/name</th>\n",
              "      <th>beer/style</th>\n",
              "      <th>review/appearance</th>\n",
              "      <th>review/aroma</th>\n",
              "      <th>review/overall</th>\n",
              "      <th>review/palate</th>\n",
              "      <th>review/taste</th>\n",
              "      <th>review/text</th>\n",
              "      <th>review/timeStruct</th>\n",
              "      <th>review/timeUnix</th>\n",
              "      <th>user/ageInSeconds</th>\n",
              "      <th>user/birthdayRaw</th>\n",
              "      <th>user/birthdayUnix</th>\n",
              "      <th>user/gender</th>\n",
              "      <th>user/profileName</th>\n",
              "    </tr>\n",
              "  </thead>\n",
              "  <tbody>\n",
              "    <tr>\n",
              "      <th>0</th>\n",
              "      <td>40163</td>\n",
              "      <td>5.0</td>\n",
              "      <td>46634</td>\n",
              "      <td>14338</td>\n",
              "      <td>Chiostro</td>\n",
              "      <td>Herbed / Spiced Beer</td>\n",
              "      <td>4.0</td>\n",
              "      <td>4.0</td>\n",
              "      <td>4.0</td>\n",
              "      <td>4.0</td>\n",
              "      <td>4.0</td>\n",
              "      <td>Pours a clouded gold with a thin white head. N...</td>\n",
              "      <td>{'min': 38, 'hour': 3, 'mday': 16, 'sec': 10, ...</td>\n",
              "      <td>1229398690</td>\n",
              "      <td>1.100009e+09</td>\n",
              "      <td>241603445.621181</td>\n",
              "      <td>318326400.0</td>\n",
              "      <td>missing</td>\n",
              "      <td>RblWthACoz</td>\n",
              "    </tr>\n",
              "    <tr>\n",
              "      <th>1</th>\n",
              "      <td>8135</td>\n",
              "      <td>11.0</td>\n",
              "      <td>3003</td>\n",
              "      <td>395</td>\n",
              "      <td>Bearded Pat's Barleywine</td>\n",
              "      <td>American Barleywine</td>\n",
              "      <td>4.0</td>\n",
              "      <td>3.5</td>\n",
              "      <td>3.5</td>\n",
              "      <td>3.5</td>\n",
              "      <td>3.0</td>\n",
              "      <td>12oz bottle into 8oz snifter.\\t\\tDeep ruby red...</td>\n",
              "      <td>{'min': 38, 'hour': 23, 'mday': 8, 'sec': 58, ...</td>\n",
              "      <td>1218238738</td>\n",
              "      <td>1.100009e+09</td>\n",
              "      <td>241603445.621181</td>\n",
              "      <td>318326400.0</td>\n",
              "      <td>missing</td>\n",
              "      <td>BeerSox</td>\n",
              "    </tr>\n",
              "    <tr>\n",
              "      <th>2</th>\n",
              "      <td>10529</td>\n",
              "      <td>4.7</td>\n",
              "      <td>961</td>\n",
              "      <td>365</td>\n",
              "      <td>Naughty Nellie's Ale</td>\n",
              "      <td>American Pale Ale (APA)</td>\n",
              "      <td>3.5</td>\n",
              "      <td>4.0</td>\n",
              "      <td>3.5</td>\n",
              "      <td>3.5</td>\n",
              "      <td>3.5</td>\n",
              "      <td>First enjoyed at the brewpub about 2 years ago...</td>\n",
              "      <td>{'min': 7, 'hour': 18, 'mday': 26, 'sec': 2, '...</td>\n",
              "      <td>1101492422</td>\n",
              "      <td>1.100009e+09</td>\n",
              "      <td>241603445.621181</td>\n",
              "      <td>318326400.0</td>\n",
              "      <td>Male</td>\n",
              "      <td>mschofield</td>\n",
              "    </tr>\n",
              "    <tr>\n",
              "      <th>3</th>\n",
              "      <td>44610</td>\n",
              "      <td>4.4</td>\n",
              "      <td>429</td>\n",
              "      <td>1</td>\n",
              "      <td>Pilsner Urquell</td>\n",
              "      <td>Czech Pilsener</td>\n",
              "      <td>3.0</td>\n",
              "      <td>3.0</td>\n",
              "      <td>2.5</td>\n",
              "      <td>3.0</td>\n",
              "      <td>3.0</td>\n",
              "      <td>First thing I noticed after pouring from green...</td>\n",
              "      <td>{'min': 7, 'hour': 1, 'mday': 20, 'sec': 5, 'y...</td>\n",
              "      <td>1308532025</td>\n",
              "      <td>1.209827e+09</td>\n",
              "      <td>1976-08-10 00:00:00</td>\n",
              "      <td>208508400.0</td>\n",
              "      <td>Male</td>\n",
              "      <td>molegar76</td>\n",
              "    </tr>\n",
              "    <tr>\n",
              "      <th>4</th>\n",
              "      <td>37062</td>\n",
              "      <td>4.4</td>\n",
              "      <td>4904</td>\n",
              "      <td>1417</td>\n",
              "      <td>Black Sheep Ale (Special)</td>\n",
              "      <td>English Pale Ale</td>\n",
              "      <td>4.0</td>\n",
              "      <td>3.0</td>\n",
              "      <td>3.0</td>\n",
              "      <td>3.5</td>\n",
              "      <td>2.5</td>\n",
              "      <td>A: pours an amber with a one finger head but o...</td>\n",
              "      <td>{'min': 51, 'hour': 6, 'mday': 12, 'sec': 48, ...</td>\n",
              "      <td>1299912708</td>\n",
              "      <td>1.100009e+09</td>\n",
              "      <td>241603445.621181</td>\n",
              "      <td>318326400.0</td>\n",
              "      <td>missing</td>\n",
              "      <td>Brewbro000</td>\n",
              "    </tr>\n",
              "  </tbody>\n",
              "</table>\n",
              "</div>\n",
              "    <div class=\"colab-df-buttons\">\n",
              "\n",
              "  <div class=\"colab-df-container\">\n",
              "    <button class=\"colab-df-convert\" onclick=\"convertToInteractive('df-b254e737-a0d6-4bad-bbd9-54dfb97d5b67')\"\n",
              "            title=\"Convert this dataframe to an interactive table.\"\n",
              "            style=\"display:none;\">\n",
              "\n",
              "  <svg xmlns=\"http://www.w3.org/2000/svg\" height=\"24px\" viewBox=\"0 -960 960 960\">\n",
              "    <path d=\"M120-120v-720h720v720H120Zm60-500h600v-160H180v160Zm220 220h160v-160H400v160Zm0 220h160v-160H400v160ZM180-400h160v-160H180v160Zm440 0h160v-160H620v160ZM180-180h160v-160H180v160Zm440 0h160v-160H620v160Z\"/>\n",
              "  </svg>\n",
              "    </button>\n",
              "\n",
              "  <style>\n",
              "    .colab-df-container {\n",
              "      display:flex;\n",
              "      gap: 12px;\n",
              "    }\n",
              "\n",
              "    .colab-df-convert {\n",
              "      background-color: #E8F0FE;\n",
              "      border: none;\n",
              "      border-radius: 50%;\n",
              "      cursor: pointer;\n",
              "      display: none;\n",
              "      fill: #1967D2;\n",
              "      height: 32px;\n",
              "      padding: 0 0 0 0;\n",
              "      width: 32px;\n",
              "    }\n",
              "\n",
              "    .colab-df-convert:hover {\n",
              "      background-color: #E2EBFA;\n",
              "      box-shadow: 0px 1px 2px rgba(60, 64, 67, 0.3), 0px 1px 3px 1px rgba(60, 64, 67, 0.15);\n",
              "      fill: #174EA6;\n",
              "    }\n",
              "\n",
              "    .colab-df-buttons div {\n",
              "      margin-bottom: 4px;\n",
              "    }\n",
              "\n",
              "    [theme=dark] .colab-df-convert {\n",
              "      background-color: #3B4455;\n",
              "      fill: #D2E3FC;\n",
              "    }\n",
              "\n",
              "    [theme=dark] .colab-df-convert:hover {\n",
              "      background-color: #434B5C;\n",
              "      box-shadow: 0px 1px 3px 1px rgba(0, 0, 0, 0.15);\n",
              "      filter: drop-shadow(0px 1px 2px rgba(0, 0, 0, 0.3));\n",
              "      fill: #FFFFFF;\n",
              "    }\n",
              "  </style>\n",
              "\n",
              "    <script>\n",
              "      const buttonEl =\n",
              "        document.querySelector('#df-b254e737-a0d6-4bad-bbd9-54dfb97d5b67 button.colab-df-convert');\n",
              "      buttonEl.style.display =\n",
              "        google.colab.kernel.accessAllowed ? 'block' : 'none';\n",
              "\n",
              "      async function convertToInteractive(key) {\n",
              "        const element = document.querySelector('#df-b254e737-a0d6-4bad-bbd9-54dfb97d5b67');\n",
              "        const dataTable =\n",
              "          await google.colab.kernel.invokeFunction('convertToInteractive',\n",
              "                                                    [key], {});\n",
              "        if (!dataTable) return;\n",
              "\n",
              "        const docLinkHtml = 'Like what you see? Visit the ' +\n",
              "          '<a target=\"_blank\" href=https://colab.research.google.com/notebooks/data_table.ipynb>data table notebook</a>'\n",
              "          + ' to learn more about interactive tables.';\n",
              "        element.innerHTML = '';\n",
              "        dataTable['output_type'] = 'display_data';\n",
              "        await google.colab.output.renderOutput(dataTable, element);\n",
              "        const docLink = document.createElement('div');\n",
              "        docLink.innerHTML = docLinkHtml;\n",
              "        element.appendChild(docLink);\n",
              "      }\n",
              "    </script>\n",
              "  </div>\n",
              "\n",
              "\n",
              "<div id=\"df-042059ce-becd-4bc9-bbdf-291c744bc929\">\n",
              "  <button class=\"colab-df-quickchart\" onclick=\"quickchart('df-042059ce-becd-4bc9-bbdf-291c744bc929')\"\n",
              "            title=\"Suggest charts.\"\n",
              "            style=\"display:none;\">\n",
              "\n",
              "<svg xmlns=\"http://www.w3.org/2000/svg\" height=\"24px\"viewBox=\"0 0 24 24\"\n",
              "     width=\"24px\">\n",
              "    <g>\n",
              "        <path d=\"M19 3H5c-1.1 0-2 .9-2 2v14c0 1.1.9 2 2 2h14c1.1 0 2-.9 2-2V5c0-1.1-.9-2-2-2zM9 17H7v-7h2v7zm4 0h-2V7h2v10zm4 0h-2v-4h2v4z\"/>\n",
              "    </g>\n",
              "</svg>\n",
              "  </button>\n",
              "\n",
              "<style>\n",
              "  .colab-df-quickchart {\n",
              "      --bg-color: #E8F0FE;\n",
              "      --fill-color: #1967D2;\n",
              "      --hover-bg-color: #E2EBFA;\n",
              "      --hover-fill-color: #174EA6;\n",
              "      --disabled-fill-color: #AAA;\n",
              "      --disabled-bg-color: #DDD;\n",
              "  }\n",
              "\n",
              "  [theme=dark] .colab-df-quickchart {\n",
              "      --bg-color: #3B4455;\n",
              "      --fill-color: #D2E3FC;\n",
              "      --hover-bg-color: #434B5C;\n",
              "      --hover-fill-color: #FFFFFF;\n",
              "      --disabled-bg-color: #3B4455;\n",
              "      --disabled-fill-color: #666;\n",
              "  }\n",
              "\n",
              "  .colab-df-quickchart {\n",
              "    background-color: var(--bg-color);\n",
              "    border: none;\n",
              "    border-radius: 50%;\n",
              "    cursor: pointer;\n",
              "    display: none;\n",
              "    fill: var(--fill-color);\n",
              "    height: 32px;\n",
              "    padding: 0;\n",
              "    width: 32px;\n",
              "  }\n",
              "\n",
              "  .colab-df-quickchart:hover {\n",
              "    background-color: var(--hover-bg-color);\n",
              "    box-shadow: 0 1px 2px rgba(60, 64, 67, 0.3), 0 1px 3px 1px rgba(60, 64, 67, 0.15);\n",
              "    fill: var(--button-hover-fill-color);\n",
              "  }\n",
              "\n",
              "  .colab-df-quickchart-complete:disabled,\n",
              "  .colab-df-quickchart-complete:disabled:hover {\n",
              "    background-color: var(--disabled-bg-color);\n",
              "    fill: var(--disabled-fill-color);\n",
              "    box-shadow: none;\n",
              "  }\n",
              "\n",
              "  .colab-df-spinner {\n",
              "    border: 2px solid var(--fill-color);\n",
              "    border-color: transparent;\n",
              "    border-bottom-color: var(--fill-color);\n",
              "    animation:\n",
              "      spin 1s steps(1) infinite;\n",
              "  }\n",
              "\n",
              "  @keyframes spin {\n",
              "    0% {\n",
              "      border-color: transparent;\n",
              "      border-bottom-color: var(--fill-color);\n",
              "      border-left-color: var(--fill-color);\n",
              "    }\n",
              "    20% {\n",
              "      border-color: transparent;\n",
              "      border-left-color: var(--fill-color);\n",
              "      border-top-color: var(--fill-color);\n",
              "    }\n",
              "    30% {\n",
              "      border-color: transparent;\n",
              "      border-left-color: var(--fill-color);\n",
              "      border-top-color: var(--fill-color);\n",
              "      border-right-color: var(--fill-color);\n",
              "    }\n",
              "    40% {\n",
              "      border-color: transparent;\n",
              "      border-right-color: var(--fill-color);\n",
              "      border-top-color: var(--fill-color);\n",
              "    }\n",
              "    60% {\n",
              "      border-color: transparent;\n",
              "      border-right-color: var(--fill-color);\n",
              "    }\n",
              "    80% {\n",
              "      border-color: transparent;\n",
              "      border-right-color: var(--fill-color);\n",
              "      border-bottom-color: var(--fill-color);\n",
              "    }\n",
              "    90% {\n",
              "      border-color: transparent;\n",
              "      border-bottom-color: var(--fill-color);\n",
              "    }\n",
              "  }\n",
              "</style>\n",
              "\n",
              "  <script>\n",
              "    async function quickchart(key) {\n",
              "      const quickchartButtonEl =\n",
              "        document.querySelector('#' + key + ' button');\n",
              "      quickchartButtonEl.disabled = true;  // To prevent multiple clicks.\n",
              "      quickchartButtonEl.classList.add('colab-df-spinner');\n",
              "      try {\n",
              "        const charts = await google.colab.kernel.invokeFunction(\n",
              "            'suggestCharts', [key], {});\n",
              "      } catch (error) {\n",
              "        console.error('Error during call to suggestCharts:', error);\n",
              "      }\n",
              "      quickchartButtonEl.classList.remove('colab-df-spinner');\n",
              "      quickchartButtonEl.classList.add('colab-df-quickchart-complete');\n",
              "    }\n",
              "    (() => {\n",
              "      let quickchartButtonEl =\n",
              "        document.querySelector('#df-042059ce-becd-4bc9-bbdf-291c744bc929 button');\n",
              "      quickchartButtonEl.style.display =\n",
              "        google.colab.kernel.accessAllowed ? 'block' : 'none';\n",
              "    })();\n",
              "  </script>\n",
              "</div>\n",
              "    </div>\n",
              "  </div>\n"
            ]
          },
          "metadata": {},
          "execution_count": 15
        }
      ]
    },
    {
      "cell_type": "code",
      "source": [
        "df.isnull().sum()"
      ],
      "metadata": {
        "colab": {
          "base_uri": "https://localhost:8080/"
        },
        "id": "gHyvry6nga3V",
        "outputId": "dd0e8b30-0b4a-497a-c825-92c8ac117f8b"
      },
      "execution_count": null,
      "outputs": [
        {
          "output_type": "execute_result",
          "data": {
            "text/plain": [
              "index                0\n",
              "beer/ABV             0\n",
              "beer/beerId          0\n",
              "beer/brewerId        0\n",
              "beer/name            0\n",
              "beer/style           0\n",
              "review/appearance    0\n",
              "review/aroma         0\n",
              "review/overall       0\n",
              "review/palate        0\n",
              "review/taste         0\n",
              "review/text          0\n",
              "review/timeStruct    0\n",
              "review/timeUnix      0\n",
              "user/ageInSeconds    0\n",
              "user/birthdayRaw     0\n",
              "user/birthdayUnix    0\n",
              "user/gender          0\n",
              "user/profileName     0\n",
              "dtype: int64"
            ]
          },
          "metadata": {},
          "execution_count": 16
        }
      ]
    },
    {
      "cell_type": "code",
      "source": [
        "df.reset_index(inplace=True)"
      ],
      "metadata": {
        "id": "RJrqRXM7gdI4"
      },
      "execution_count": null,
      "outputs": []
    },
    {
      "cell_type": "markdown",
      "source": [
        "# **Data Preprocessing**\n",
        "\n",
        "\n"
      ],
      "metadata": {
        "id": "O1OMm5PdgyNx"
      }
    },
    {
      "cell_type": "markdown",
      "source": [
        "````\n",
        "\n",
        "Question - How can you use \"beer/name\", \"beer/style\" and \"review/text\" as features to predict the overall\n",
        "rating of the beer ?\n",
        "\n",
        "\n",
        " ````\n",
        "\n",
        "\n",
        "\n",
        "\n",
        "---\n",
        "\n",
        "````\n",
        "Ans-1 Using Text Preprocessing\n",
        "\n",
        "````\n",
        "\n"
      ],
      "metadata": {
        "id": "EVJ2jZ-ZhIMJ"
      }
    },
    {
      "cell_type": "markdown",
      "source": [
        "######Text Preprocessing"
      ],
      "metadata": {
        "id": "C_n6KBXtq9lb"
      }
    },
    {
      "cell_type": "code",
      "source": [
        "df.head()"
      ],
      "metadata": {
        "colab": {
          "base_uri": "https://localhost:8080/",
          "height": 506
        },
        "id": "gq5Ga3YdipvV",
        "outputId": "7e11c9d8-9472-45ae-fcc6-30443d4578c3"
      },
      "execution_count": null,
      "outputs": [
        {
          "output_type": "execute_result",
          "data": {
            "text/plain": [
              "   level_0  index  beer/ABV  beer/beerId  beer/brewerId  \\\n",
              "0        0  40163       5.0        46634          14338   \n",
              "1        1   8135      11.0         3003            395   \n",
              "2        2  10529       4.7          961            365   \n",
              "3        3  44610       4.4          429              1   \n",
              "4        4  37062       4.4         4904           1417   \n",
              "\n",
              "                   beer/name               beer/style  review/appearance  \\\n",
              "0                   Chiostro     Herbed / Spiced Beer                4.0   \n",
              "1   Bearded Pat's Barleywine      American Barleywine                4.0   \n",
              "2       Naughty Nellie's Ale  American Pale Ale (APA)                3.5   \n",
              "3            Pilsner Urquell           Czech Pilsener                3.0   \n",
              "4  Black Sheep Ale (Special)         English Pale Ale                4.0   \n",
              "\n",
              "   review/aroma  review/overall  review/palate  review/taste  \\\n",
              "0           4.0             4.0            4.0           4.0   \n",
              "1           3.5             3.5            3.5           3.0   \n",
              "2           4.0             3.5            3.5           3.5   \n",
              "3           3.0             2.5            3.0           3.0   \n",
              "4           3.0             3.0            3.5           2.5   \n",
              "\n",
              "                                         review/text  \\\n",
              "0  Pours a clouded gold with a thin white head. N...   \n",
              "1  12oz bottle into 8oz snifter.\\t\\tDeep ruby red...   \n",
              "2  First enjoyed at the brewpub about 2 years ago...   \n",
              "3  First thing I noticed after pouring from green...   \n",
              "4  A: pours an amber with a one finger head but o...   \n",
              "\n",
              "                                   review/timeStruct  review/timeUnix  \\\n",
              "0  {'min': 38, 'hour': 3, 'mday': 16, 'sec': 10, ...       1229398690   \n",
              "1  {'min': 38, 'hour': 23, 'mday': 8, 'sec': 58, ...       1218238738   \n",
              "2  {'min': 7, 'hour': 18, 'mday': 26, 'sec': 2, '...       1101492422   \n",
              "3  {'min': 7, 'hour': 1, 'mday': 20, 'sec': 5, 'y...       1308532025   \n",
              "4  {'min': 51, 'hour': 6, 'mday': 12, 'sec': 48, ...       1299912708   \n",
              "\n",
              "   user/ageInSeconds     user/birthdayRaw  user/birthdayUnix user/gender  \\\n",
              "0       1.100009e+09     241603445.621181        318326400.0     missing   \n",
              "1       1.100009e+09     241603445.621181        318326400.0     missing   \n",
              "2       1.100009e+09     241603445.621181        318326400.0        Male   \n",
              "3       1.209827e+09  1976-08-10 00:00:00        208508400.0        Male   \n",
              "4       1.100009e+09     241603445.621181        318326400.0     missing   \n",
              "\n",
              "  user/profileName  \n",
              "0       RblWthACoz  \n",
              "1          BeerSox  \n",
              "2       mschofield  \n",
              "3        molegar76  \n",
              "4       Brewbro000  "
            ],
            "text/html": [
              "\n",
              "  <div id=\"df-756da685-e13a-41cb-b8a4-bdce2a87941d\" class=\"colab-df-container\">\n",
              "    <div>\n",
              "<style scoped>\n",
              "    .dataframe tbody tr th:only-of-type {\n",
              "        vertical-align: middle;\n",
              "    }\n",
              "\n",
              "    .dataframe tbody tr th {\n",
              "        vertical-align: top;\n",
              "    }\n",
              "\n",
              "    .dataframe thead th {\n",
              "        text-align: right;\n",
              "    }\n",
              "</style>\n",
              "<table border=\"1\" class=\"dataframe\">\n",
              "  <thead>\n",
              "    <tr style=\"text-align: right;\">\n",
              "      <th></th>\n",
              "      <th>level_0</th>\n",
              "      <th>index</th>\n",
              "      <th>beer/ABV</th>\n",
              "      <th>beer/beerId</th>\n",
              "      <th>beer/brewerId</th>\n",
              "      <th>beer/name</th>\n",
              "      <th>beer/style</th>\n",
              "      <th>review/appearance</th>\n",
              "      <th>review/aroma</th>\n",
              "      <th>review/overall</th>\n",
              "      <th>review/palate</th>\n",
              "      <th>review/taste</th>\n",
              "      <th>review/text</th>\n",
              "      <th>review/timeStruct</th>\n",
              "      <th>review/timeUnix</th>\n",
              "      <th>user/ageInSeconds</th>\n",
              "      <th>user/birthdayRaw</th>\n",
              "      <th>user/birthdayUnix</th>\n",
              "      <th>user/gender</th>\n",
              "      <th>user/profileName</th>\n",
              "    </tr>\n",
              "  </thead>\n",
              "  <tbody>\n",
              "    <tr>\n",
              "      <th>0</th>\n",
              "      <td>0</td>\n",
              "      <td>40163</td>\n",
              "      <td>5.0</td>\n",
              "      <td>46634</td>\n",
              "      <td>14338</td>\n",
              "      <td>Chiostro</td>\n",
              "      <td>Herbed / Spiced Beer</td>\n",
              "      <td>4.0</td>\n",
              "      <td>4.0</td>\n",
              "      <td>4.0</td>\n",
              "      <td>4.0</td>\n",
              "      <td>4.0</td>\n",
              "      <td>Pours a clouded gold with a thin white head. N...</td>\n",
              "      <td>{'min': 38, 'hour': 3, 'mday': 16, 'sec': 10, ...</td>\n",
              "      <td>1229398690</td>\n",
              "      <td>1.100009e+09</td>\n",
              "      <td>241603445.621181</td>\n",
              "      <td>318326400.0</td>\n",
              "      <td>missing</td>\n",
              "      <td>RblWthACoz</td>\n",
              "    </tr>\n",
              "    <tr>\n",
              "      <th>1</th>\n",
              "      <td>1</td>\n",
              "      <td>8135</td>\n",
              "      <td>11.0</td>\n",
              "      <td>3003</td>\n",
              "      <td>395</td>\n",
              "      <td>Bearded Pat's Barleywine</td>\n",
              "      <td>American Barleywine</td>\n",
              "      <td>4.0</td>\n",
              "      <td>3.5</td>\n",
              "      <td>3.5</td>\n",
              "      <td>3.5</td>\n",
              "      <td>3.0</td>\n",
              "      <td>12oz bottle into 8oz snifter.\\t\\tDeep ruby red...</td>\n",
              "      <td>{'min': 38, 'hour': 23, 'mday': 8, 'sec': 58, ...</td>\n",
              "      <td>1218238738</td>\n",
              "      <td>1.100009e+09</td>\n",
              "      <td>241603445.621181</td>\n",
              "      <td>318326400.0</td>\n",
              "      <td>missing</td>\n",
              "      <td>BeerSox</td>\n",
              "    </tr>\n",
              "    <tr>\n",
              "      <th>2</th>\n",
              "      <td>2</td>\n",
              "      <td>10529</td>\n",
              "      <td>4.7</td>\n",
              "      <td>961</td>\n",
              "      <td>365</td>\n",
              "      <td>Naughty Nellie's Ale</td>\n",
              "      <td>American Pale Ale (APA)</td>\n",
              "      <td>3.5</td>\n",
              "      <td>4.0</td>\n",
              "      <td>3.5</td>\n",
              "      <td>3.5</td>\n",
              "      <td>3.5</td>\n",
              "      <td>First enjoyed at the brewpub about 2 years ago...</td>\n",
              "      <td>{'min': 7, 'hour': 18, 'mday': 26, 'sec': 2, '...</td>\n",
              "      <td>1101492422</td>\n",
              "      <td>1.100009e+09</td>\n",
              "      <td>241603445.621181</td>\n",
              "      <td>318326400.0</td>\n",
              "      <td>Male</td>\n",
              "      <td>mschofield</td>\n",
              "    </tr>\n",
              "    <tr>\n",
              "      <th>3</th>\n",
              "      <td>3</td>\n",
              "      <td>44610</td>\n",
              "      <td>4.4</td>\n",
              "      <td>429</td>\n",
              "      <td>1</td>\n",
              "      <td>Pilsner Urquell</td>\n",
              "      <td>Czech Pilsener</td>\n",
              "      <td>3.0</td>\n",
              "      <td>3.0</td>\n",
              "      <td>2.5</td>\n",
              "      <td>3.0</td>\n",
              "      <td>3.0</td>\n",
              "      <td>First thing I noticed after pouring from green...</td>\n",
              "      <td>{'min': 7, 'hour': 1, 'mday': 20, 'sec': 5, 'y...</td>\n",
              "      <td>1308532025</td>\n",
              "      <td>1.209827e+09</td>\n",
              "      <td>1976-08-10 00:00:00</td>\n",
              "      <td>208508400.0</td>\n",
              "      <td>Male</td>\n",
              "      <td>molegar76</td>\n",
              "    </tr>\n",
              "    <tr>\n",
              "      <th>4</th>\n",
              "      <td>4</td>\n",
              "      <td>37062</td>\n",
              "      <td>4.4</td>\n",
              "      <td>4904</td>\n",
              "      <td>1417</td>\n",
              "      <td>Black Sheep Ale (Special)</td>\n",
              "      <td>English Pale Ale</td>\n",
              "      <td>4.0</td>\n",
              "      <td>3.0</td>\n",
              "      <td>3.0</td>\n",
              "      <td>3.5</td>\n",
              "      <td>2.5</td>\n",
              "      <td>A: pours an amber with a one finger head but o...</td>\n",
              "      <td>{'min': 51, 'hour': 6, 'mday': 12, 'sec': 48, ...</td>\n",
              "      <td>1299912708</td>\n",
              "      <td>1.100009e+09</td>\n",
              "      <td>241603445.621181</td>\n",
              "      <td>318326400.0</td>\n",
              "      <td>missing</td>\n",
              "      <td>Brewbro000</td>\n",
              "    </tr>\n",
              "  </tbody>\n",
              "</table>\n",
              "</div>\n",
              "    <div class=\"colab-df-buttons\">\n",
              "\n",
              "  <div class=\"colab-df-container\">\n",
              "    <button class=\"colab-df-convert\" onclick=\"convertToInteractive('df-756da685-e13a-41cb-b8a4-bdce2a87941d')\"\n",
              "            title=\"Convert this dataframe to an interactive table.\"\n",
              "            style=\"display:none;\">\n",
              "\n",
              "  <svg xmlns=\"http://www.w3.org/2000/svg\" height=\"24px\" viewBox=\"0 -960 960 960\">\n",
              "    <path d=\"M120-120v-720h720v720H120Zm60-500h600v-160H180v160Zm220 220h160v-160H400v160Zm0 220h160v-160H400v160ZM180-400h160v-160H180v160Zm440 0h160v-160H620v160ZM180-180h160v-160H180v160Zm440 0h160v-160H620v160Z\"/>\n",
              "  </svg>\n",
              "    </button>\n",
              "\n",
              "  <style>\n",
              "    .colab-df-container {\n",
              "      display:flex;\n",
              "      gap: 12px;\n",
              "    }\n",
              "\n",
              "    .colab-df-convert {\n",
              "      background-color: #E8F0FE;\n",
              "      border: none;\n",
              "      border-radius: 50%;\n",
              "      cursor: pointer;\n",
              "      display: none;\n",
              "      fill: #1967D2;\n",
              "      height: 32px;\n",
              "      padding: 0 0 0 0;\n",
              "      width: 32px;\n",
              "    }\n",
              "\n",
              "    .colab-df-convert:hover {\n",
              "      background-color: #E2EBFA;\n",
              "      box-shadow: 0px 1px 2px rgba(60, 64, 67, 0.3), 0px 1px 3px 1px rgba(60, 64, 67, 0.15);\n",
              "      fill: #174EA6;\n",
              "    }\n",
              "\n",
              "    .colab-df-buttons div {\n",
              "      margin-bottom: 4px;\n",
              "    }\n",
              "\n",
              "    [theme=dark] .colab-df-convert {\n",
              "      background-color: #3B4455;\n",
              "      fill: #D2E3FC;\n",
              "    }\n",
              "\n",
              "    [theme=dark] .colab-df-convert:hover {\n",
              "      background-color: #434B5C;\n",
              "      box-shadow: 0px 1px 3px 1px rgba(0, 0, 0, 0.15);\n",
              "      filter: drop-shadow(0px 1px 2px rgba(0, 0, 0, 0.3));\n",
              "      fill: #FFFFFF;\n",
              "    }\n",
              "  </style>\n",
              "\n",
              "    <script>\n",
              "      const buttonEl =\n",
              "        document.querySelector('#df-756da685-e13a-41cb-b8a4-bdce2a87941d button.colab-df-convert');\n",
              "      buttonEl.style.display =\n",
              "        google.colab.kernel.accessAllowed ? 'block' : 'none';\n",
              "\n",
              "      async function convertToInteractive(key) {\n",
              "        const element = document.querySelector('#df-756da685-e13a-41cb-b8a4-bdce2a87941d');\n",
              "        const dataTable =\n",
              "          await google.colab.kernel.invokeFunction('convertToInteractive',\n",
              "                                                    [key], {});\n",
              "        if (!dataTable) return;\n",
              "\n",
              "        const docLinkHtml = 'Like what you see? Visit the ' +\n",
              "          '<a target=\"_blank\" href=https://colab.research.google.com/notebooks/data_table.ipynb>data table notebook</a>'\n",
              "          + ' to learn more about interactive tables.';\n",
              "        element.innerHTML = '';\n",
              "        dataTable['output_type'] = 'display_data';\n",
              "        await google.colab.output.renderOutput(dataTable, element);\n",
              "        const docLink = document.createElement('div');\n",
              "        docLink.innerHTML = docLinkHtml;\n",
              "        element.appendChild(docLink);\n",
              "      }\n",
              "    </script>\n",
              "  </div>\n",
              "\n",
              "\n",
              "<div id=\"df-b23e195d-17d2-42fb-979c-935bbbc78423\">\n",
              "  <button class=\"colab-df-quickchart\" onclick=\"quickchart('df-b23e195d-17d2-42fb-979c-935bbbc78423')\"\n",
              "            title=\"Suggest charts.\"\n",
              "            style=\"display:none;\">\n",
              "\n",
              "<svg xmlns=\"http://www.w3.org/2000/svg\" height=\"24px\"viewBox=\"0 0 24 24\"\n",
              "     width=\"24px\">\n",
              "    <g>\n",
              "        <path d=\"M19 3H5c-1.1 0-2 .9-2 2v14c0 1.1.9 2 2 2h14c1.1 0 2-.9 2-2V5c0-1.1-.9-2-2-2zM9 17H7v-7h2v7zm4 0h-2V7h2v10zm4 0h-2v-4h2v4z\"/>\n",
              "    </g>\n",
              "</svg>\n",
              "  </button>\n",
              "\n",
              "<style>\n",
              "  .colab-df-quickchart {\n",
              "      --bg-color: #E8F0FE;\n",
              "      --fill-color: #1967D2;\n",
              "      --hover-bg-color: #E2EBFA;\n",
              "      --hover-fill-color: #174EA6;\n",
              "      --disabled-fill-color: #AAA;\n",
              "      --disabled-bg-color: #DDD;\n",
              "  }\n",
              "\n",
              "  [theme=dark] .colab-df-quickchart {\n",
              "      --bg-color: #3B4455;\n",
              "      --fill-color: #D2E3FC;\n",
              "      --hover-bg-color: #434B5C;\n",
              "      --hover-fill-color: #FFFFFF;\n",
              "      --disabled-bg-color: #3B4455;\n",
              "      --disabled-fill-color: #666;\n",
              "  }\n",
              "\n",
              "  .colab-df-quickchart {\n",
              "    background-color: var(--bg-color);\n",
              "    border: none;\n",
              "    border-radius: 50%;\n",
              "    cursor: pointer;\n",
              "    display: none;\n",
              "    fill: var(--fill-color);\n",
              "    height: 32px;\n",
              "    padding: 0;\n",
              "    width: 32px;\n",
              "  }\n",
              "\n",
              "  .colab-df-quickchart:hover {\n",
              "    background-color: var(--hover-bg-color);\n",
              "    box-shadow: 0 1px 2px rgba(60, 64, 67, 0.3), 0 1px 3px 1px rgba(60, 64, 67, 0.15);\n",
              "    fill: var(--button-hover-fill-color);\n",
              "  }\n",
              "\n",
              "  .colab-df-quickchart-complete:disabled,\n",
              "  .colab-df-quickchart-complete:disabled:hover {\n",
              "    background-color: var(--disabled-bg-color);\n",
              "    fill: var(--disabled-fill-color);\n",
              "    box-shadow: none;\n",
              "  }\n",
              "\n",
              "  .colab-df-spinner {\n",
              "    border: 2px solid var(--fill-color);\n",
              "    border-color: transparent;\n",
              "    border-bottom-color: var(--fill-color);\n",
              "    animation:\n",
              "      spin 1s steps(1) infinite;\n",
              "  }\n",
              "\n",
              "  @keyframes spin {\n",
              "    0% {\n",
              "      border-color: transparent;\n",
              "      border-bottom-color: var(--fill-color);\n",
              "      border-left-color: var(--fill-color);\n",
              "    }\n",
              "    20% {\n",
              "      border-color: transparent;\n",
              "      border-left-color: var(--fill-color);\n",
              "      border-top-color: var(--fill-color);\n",
              "    }\n",
              "    30% {\n",
              "      border-color: transparent;\n",
              "      border-left-color: var(--fill-color);\n",
              "      border-top-color: var(--fill-color);\n",
              "      border-right-color: var(--fill-color);\n",
              "    }\n",
              "    40% {\n",
              "      border-color: transparent;\n",
              "      border-right-color: var(--fill-color);\n",
              "      border-top-color: var(--fill-color);\n",
              "    }\n",
              "    60% {\n",
              "      border-color: transparent;\n",
              "      border-right-color: var(--fill-color);\n",
              "    }\n",
              "    80% {\n",
              "      border-color: transparent;\n",
              "      border-right-color: var(--fill-color);\n",
              "      border-bottom-color: var(--fill-color);\n",
              "    }\n",
              "    90% {\n",
              "      border-color: transparent;\n",
              "      border-bottom-color: var(--fill-color);\n",
              "    }\n",
              "  }\n",
              "</style>\n",
              "\n",
              "  <script>\n",
              "    async function quickchart(key) {\n",
              "      const quickchartButtonEl =\n",
              "        document.querySelector('#' + key + ' button');\n",
              "      quickchartButtonEl.disabled = true;  // To prevent multiple clicks.\n",
              "      quickchartButtonEl.classList.add('colab-df-spinner');\n",
              "      try {\n",
              "        const charts = await google.colab.kernel.invokeFunction(\n",
              "            'suggestCharts', [key], {});\n",
              "      } catch (error) {\n",
              "        console.error('Error during call to suggestCharts:', error);\n",
              "      }\n",
              "      quickchartButtonEl.classList.remove('colab-df-spinner');\n",
              "      quickchartButtonEl.classList.add('colab-df-quickchart-complete');\n",
              "    }\n",
              "    (() => {\n",
              "      let quickchartButtonEl =\n",
              "        document.querySelector('#df-b23e195d-17d2-42fb-979c-935bbbc78423 button');\n",
              "      quickchartButtonEl.style.display =\n",
              "        google.colab.kernel.accessAllowed ? 'block' : 'none';\n",
              "    })();\n",
              "  </script>\n",
              "</div>\n",
              "    </div>\n",
              "  </div>\n"
            ]
          },
          "metadata": {},
          "execution_count": 18
        }
      ]
    },
    {
      "cell_type": "code",
      "source": [
        "\n",
        "ps = PorterStemmer()\n",
        "\n",
        "\n",
        "def conv(data,col):\n",
        "  corpus = []\n",
        "  for i in range(0, len(data)):\n",
        "      review = re.sub('[^a-zA-Z]', ' ', data[col][i])\n",
        "      review = review.lower()\n",
        "      review = review.split()\n",
        "      review = [ps.stem(word) for word in review if not word in stopwords.words('english')]\n",
        "      review = ' '.join(review)\n",
        "      corpus.append(review)\n",
        "  return corpus"
      ],
      "metadata": {
        "id": "vkJhsRnzg8PB"
      },
      "execution_count": null,
      "outputs": []
    },
    {
      "cell_type": "code",
      "source": [
        "beerNames = conv(df,'beer/name')\n",
        "df['clean_beerNames'] = beerNames\n",
        "df.drop('beer/name',axis=1,inplace=True)"
      ],
      "metadata": {
        "id": "VcdY74Yuh3oh"
      },
      "execution_count": null,
      "outputs": []
    },
    {
      "cell_type": "code",
      "source": [
        "beerTypes = conv(df,'beer/style')\n",
        "df['clean_beerTypes'] = beerTypes\n",
        "df.drop('beer/style',axis=1,inplace=True)"
      ],
      "metadata": {
        "id": "I9LXQ02viHlw"
      },
      "execution_count": null,
      "outputs": []
    },
    {
      "cell_type": "code",
      "source": [
        "beernames = df['clean_beerNames'].value_counts()\n",
        "print('Number of beer names are : {0}'.format(len(beernames)))\n",
        "print(beernames[beernames > 500])"
      ],
      "metadata": {
        "colab": {
          "base_uri": "https://localhost:8080/"
        },
        "id": "stJ53xiWibx4",
        "outputId": "7314f5ba-9d7d-419f-c45a-7378aee7d28f"
      },
      "execution_count": null,
      "outputs": [
        {
          "output_type": "stream",
          "name": "stdout",
          "text": [
            "Number of beer names are : 1671\n",
            "founder breakfast stout                1882\n",
            "founder kb kentucki breakfast stout    1438\n",
            "founder centenni ipa                   1063\n",
            "founder red rye pa                     1051\n",
            "founder dirti bastard                   983\n",
            "pilsner urquel                          948\n",
            "founder doubl troubl                    857\n",
            "founder imperi stout                    805\n",
            "founder devil dancer                    799\n",
            "founder backwood bastard                778\n",
            "founder porter                          675\n",
            "founder nemesi                          670\n",
            "aecht schlenkerla rauchbier rzen        665\n",
            "b r crusher oatmeal imperi stout        635\n",
            "founder curmudgeon old ale              574\n",
            "stoudt doubl ipa india pale ale         538\n",
            "Name: clean_beerNames, dtype: int64\n"
          ]
        }
      ]
    },
    {
      "cell_type": "code",
      "source": [
        "df.head(5)"
      ],
      "metadata": {
        "colab": {
          "base_uri": "https://localhost:8080/",
          "height": 506
        },
        "id": "j4NRdtvAi2kX",
        "outputId": "7906e858-65b6-4788-f430-3fc9a1e0d930"
      },
      "execution_count": null,
      "outputs": [
        {
          "output_type": "execute_result",
          "data": {
            "text/plain": [
              "   level_0  index  beer/ABV  beer/beerId  beer/brewerId  review/appearance  \\\n",
              "0        0  40163       5.0        46634          14338                4.0   \n",
              "1        1   8135      11.0         3003            395                4.0   \n",
              "2        2  10529       4.7          961            365                3.5   \n",
              "3        3  44610       4.4          429              1                3.0   \n",
              "4        4  37062       4.4         4904           1417                4.0   \n",
              "\n",
              "   review/aroma  review/overall  review/palate  review/taste  \\\n",
              "0           4.0             4.0            4.0           4.0   \n",
              "1           3.5             3.5            3.5           3.0   \n",
              "2           4.0             3.5            3.5           3.5   \n",
              "3           3.0             2.5            3.0           3.0   \n",
              "4           3.0             3.0            3.5           2.5   \n",
              "\n",
              "                                         review/text  \\\n",
              "0  Pours a clouded gold with a thin white head. N...   \n",
              "1  12oz bottle into 8oz snifter.\\t\\tDeep ruby red...   \n",
              "2  First enjoyed at the brewpub about 2 years ago...   \n",
              "3  First thing I noticed after pouring from green...   \n",
              "4  A: pours an amber with a one finger head but o...   \n",
              "\n",
              "                                   review/timeStruct  review/timeUnix  \\\n",
              "0  {'min': 38, 'hour': 3, 'mday': 16, 'sec': 10, ...       1229398690   \n",
              "1  {'min': 38, 'hour': 23, 'mday': 8, 'sec': 58, ...       1218238738   \n",
              "2  {'min': 7, 'hour': 18, 'mday': 26, 'sec': 2, '...       1101492422   \n",
              "3  {'min': 7, 'hour': 1, 'mday': 20, 'sec': 5, 'y...       1308532025   \n",
              "4  {'min': 51, 'hour': 6, 'mday': 12, 'sec': 48, ...       1299912708   \n",
              "\n",
              "   user/ageInSeconds     user/birthdayRaw  user/birthdayUnix user/gender  \\\n",
              "0       1.100009e+09     241603445.621181        318326400.0     missing   \n",
              "1       1.100009e+09     241603445.621181        318326400.0     missing   \n",
              "2       1.100009e+09     241603445.621181        318326400.0        Male   \n",
              "3       1.209827e+09  1976-08-10 00:00:00        208508400.0        Male   \n",
              "4       1.100009e+09     241603445.621181        318326400.0     missing   \n",
              "\n",
              "  user/profileName          clean_beerNames        clean_beerTypes  \n",
              "0       RblWthACoz                 chiostro        herb spice beer  \n",
              "1          BeerSox      beard pat barleywin     american barleywin  \n",
              "2       mschofield        naughti nelli ale  american pale ale apa  \n",
              "3        molegar76           pilsner urquel           czech pilsen  \n",
              "4       Brewbro000  black sheep ale special       english pale ale  "
            ],
            "text/html": [
              "\n",
              "  <div id=\"df-e62cb784-1488-420a-bf18-96ead497a107\" class=\"colab-df-container\">\n",
              "    <div>\n",
              "<style scoped>\n",
              "    .dataframe tbody tr th:only-of-type {\n",
              "        vertical-align: middle;\n",
              "    }\n",
              "\n",
              "    .dataframe tbody tr th {\n",
              "        vertical-align: top;\n",
              "    }\n",
              "\n",
              "    .dataframe thead th {\n",
              "        text-align: right;\n",
              "    }\n",
              "</style>\n",
              "<table border=\"1\" class=\"dataframe\">\n",
              "  <thead>\n",
              "    <tr style=\"text-align: right;\">\n",
              "      <th></th>\n",
              "      <th>level_0</th>\n",
              "      <th>index</th>\n",
              "      <th>beer/ABV</th>\n",
              "      <th>beer/beerId</th>\n",
              "      <th>beer/brewerId</th>\n",
              "      <th>review/appearance</th>\n",
              "      <th>review/aroma</th>\n",
              "      <th>review/overall</th>\n",
              "      <th>review/palate</th>\n",
              "      <th>review/taste</th>\n",
              "      <th>review/text</th>\n",
              "      <th>review/timeStruct</th>\n",
              "      <th>review/timeUnix</th>\n",
              "      <th>user/ageInSeconds</th>\n",
              "      <th>user/birthdayRaw</th>\n",
              "      <th>user/birthdayUnix</th>\n",
              "      <th>user/gender</th>\n",
              "      <th>user/profileName</th>\n",
              "      <th>clean_beerNames</th>\n",
              "      <th>clean_beerTypes</th>\n",
              "    </tr>\n",
              "  </thead>\n",
              "  <tbody>\n",
              "    <tr>\n",
              "      <th>0</th>\n",
              "      <td>0</td>\n",
              "      <td>40163</td>\n",
              "      <td>5.0</td>\n",
              "      <td>46634</td>\n",
              "      <td>14338</td>\n",
              "      <td>4.0</td>\n",
              "      <td>4.0</td>\n",
              "      <td>4.0</td>\n",
              "      <td>4.0</td>\n",
              "      <td>4.0</td>\n",
              "      <td>Pours a clouded gold with a thin white head. N...</td>\n",
              "      <td>{'min': 38, 'hour': 3, 'mday': 16, 'sec': 10, ...</td>\n",
              "      <td>1229398690</td>\n",
              "      <td>1.100009e+09</td>\n",
              "      <td>241603445.621181</td>\n",
              "      <td>318326400.0</td>\n",
              "      <td>missing</td>\n",
              "      <td>RblWthACoz</td>\n",
              "      <td>chiostro</td>\n",
              "      <td>herb spice beer</td>\n",
              "    </tr>\n",
              "    <tr>\n",
              "      <th>1</th>\n",
              "      <td>1</td>\n",
              "      <td>8135</td>\n",
              "      <td>11.0</td>\n",
              "      <td>3003</td>\n",
              "      <td>395</td>\n",
              "      <td>4.0</td>\n",
              "      <td>3.5</td>\n",
              "      <td>3.5</td>\n",
              "      <td>3.5</td>\n",
              "      <td>3.0</td>\n",
              "      <td>12oz bottle into 8oz snifter.\\t\\tDeep ruby red...</td>\n",
              "      <td>{'min': 38, 'hour': 23, 'mday': 8, 'sec': 58, ...</td>\n",
              "      <td>1218238738</td>\n",
              "      <td>1.100009e+09</td>\n",
              "      <td>241603445.621181</td>\n",
              "      <td>318326400.0</td>\n",
              "      <td>missing</td>\n",
              "      <td>BeerSox</td>\n",
              "      <td>beard pat barleywin</td>\n",
              "      <td>american barleywin</td>\n",
              "    </tr>\n",
              "    <tr>\n",
              "      <th>2</th>\n",
              "      <td>2</td>\n",
              "      <td>10529</td>\n",
              "      <td>4.7</td>\n",
              "      <td>961</td>\n",
              "      <td>365</td>\n",
              "      <td>3.5</td>\n",
              "      <td>4.0</td>\n",
              "      <td>3.5</td>\n",
              "      <td>3.5</td>\n",
              "      <td>3.5</td>\n",
              "      <td>First enjoyed at the brewpub about 2 years ago...</td>\n",
              "      <td>{'min': 7, 'hour': 18, 'mday': 26, 'sec': 2, '...</td>\n",
              "      <td>1101492422</td>\n",
              "      <td>1.100009e+09</td>\n",
              "      <td>241603445.621181</td>\n",
              "      <td>318326400.0</td>\n",
              "      <td>Male</td>\n",
              "      <td>mschofield</td>\n",
              "      <td>naughti nelli ale</td>\n",
              "      <td>american pale ale apa</td>\n",
              "    </tr>\n",
              "    <tr>\n",
              "      <th>3</th>\n",
              "      <td>3</td>\n",
              "      <td>44610</td>\n",
              "      <td>4.4</td>\n",
              "      <td>429</td>\n",
              "      <td>1</td>\n",
              "      <td>3.0</td>\n",
              "      <td>3.0</td>\n",
              "      <td>2.5</td>\n",
              "      <td>3.0</td>\n",
              "      <td>3.0</td>\n",
              "      <td>First thing I noticed after pouring from green...</td>\n",
              "      <td>{'min': 7, 'hour': 1, 'mday': 20, 'sec': 5, 'y...</td>\n",
              "      <td>1308532025</td>\n",
              "      <td>1.209827e+09</td>\n",
              "      <td>1976-08-10 00:00:00</td>\n",
              "      <td>208508400.0</td>\n",
              "      <td>Male</td>\n",
              "      <td>molegar76</td>\n",
              "      <td>pilsner urquel</td>\n",
              "      <td>czech pilsen</td>\n",
              "    </tr>\n",
              "    <tr>\n",
              "      <th>4</th>\n",
              "      <td>4</td>\n",
              "      <td>37062</td>\n",
              "      <td>4.4</td>\n",
              "      <td>4904</td>\n",
              "      <td>1417</td>\n",
              "      <td>4.0</td>\n",
              "      <td>3.0</td>\n",
              "      <td>3.0</td>\n",
              "      <td>3.5</td>\n",
              "      <td>2.5</td>\n",
              "      <td>A: pours an amber with a one finger head but o...</td>\n",
              "      <td>{'min': 51, 'hour': 6, 'mday': 12, 'sec': 48, ...</td>\n",
              "      <td>1299912708</td>\n",
              "      <td>1.100009e+09</td>\n",
              "      <td>241603445.621181</td>\n",
              "      <td>318326400.0</td>\n",
              "      <td>missing</td>\n",
              "      <td>Brewbro000</td>\n",
              "      <td>black sheep ale special</td>\n",
              "      <td>english pale ale</td>\n",
              "    </tr>\n",
              "  </tbody>\n",
              "</table>\n",
              "</div>\n",
              "    <div class=\"colab-df-buttons\">\n",
              "\n",
              "  <div class=\"colab-df-container\">\n",
              "    <button class=\"colab-df-convert\" onclick=\"convertToInteractive('df-e62cb784-1488-420a-bf18-96ead497a107')\"\n",
              "            title=\"Convert this dataframe to an interactive table.\"\n",
              "            style=\"display:none;\">\n",
              "\n",
              "  <svg xmlns=\"http://www.w3.org/2000/svg\" height=\"24px\" viewBox=\"0 -960 960 960\">\n",
              "    <path d=\"M120-120v-720h720v720H120Zm60-500h600v-160H180v160Zm220 220h160v-160H400v160Zm0 220h160v-160H400v160ZM180-400h160v-160H180v160Zm440 0h160v-160H620v160ZM180-180h160v-160H180v160Zm440 0h160v-160H620v160Z\"/>\n",
              "  </svg>\n",
              "    </button>\n",
              "\n",
              "  <style>\n",
              "    .colab-df-container {\n",
              "      display:flex;\n",
              "      gap: 12px;\n",
              "    }\n",
              "\n",
              "    .colab-df-convert {\n",
              "      background-color: #E8F0FE;\n",
              "      border: none;\n",
              "      border-radius: 50%;\n",
              "      cursor: pointer;\n",
              "      display: none;\n",
              "      fill: #1967D2;\n",
              "      height: 32px;\n",
              "      padding: 0 0 0 0;\n",
              "      width: 32px;\n",
              "    }\n",
              "\n",
              "    .colab-df-convert:hover {\n",
              "      background-color: #E2EBFA;\n",
              "      box-shadow: 0px 1px 2px rgba(60, 64, 67, 0.3), 0px 1px 3px 1px rgba(60, 64, 67, 0.15);\n",
              "      fill: #174EA6;\n",
              "    }\n",
              "\n",
              "    .colab-df-buttons div {\n",
              "      margin-bottom: 4px;\n",
              "    }\n",
              "\n",
              "    [theme=dark] .colab-df-convert {\n",
              "      background-color: #3B4455;\n",
              "      fill: #D2E3FC;\n",
              "    }\n",
              "\n",
              "    [theme=dark] .colab-df-convert:hover {\n",
              "      background-color: #434B5C;\n",
              "      box-shadow: 0px 1px 3px 1px rgba(0, 0, 0, 0.15);\n",
              "      filter: drop-shadow(0px 1px 2px rgba(0, 0, 0, 0.3));\n",
              "      fill: #FFFFFF;\n",
              "    }\n",
              "  </style>\n",
              "\n",
              "    <script>\n",
              "      const buttonEl =\n",
              "        document.querySelector('#df-e62cb784-1488-420a-bf18-96ead497a107 button.colab-df-convert');\n",
              "      buttonEl.style.display =\n",
              "        google.colab.kernel.accessAllowed ? 'block' : 'none';\n",
              "\n",
              "      async function convertToInteractive(key) {\n",
              "        const element = document.querySelector('#df-e62cb784-1488-420a-bf18-96ead497a107');\n",
              "        const dataTable =\n",
              "          await google.colab.kernel.invokeFunction('convertToInteractive',\n",
              "                                                    [key], {});\n",
              "        if (!dataTable) return;\n",
              "\n",
              "        const docLinkHtml = 'Like what you see? Visit the ' +\n",
              "          '<a target=\"_blank\" href=https://colab.research.google.com/notebooks/data_table.ipynb>data table notebook</a>'\n",
              "          + ' to learn more about interactive tables.';\n",
              "        element.innerHTML = '';\n",
              "        dataTable['output_type'] = 'display_data';\n",
              "        await google.colab.output.renderOutput(dataTable, element);\n",
              "        const docLink = document.createElement('div');\n",
              "        docLink.innerHTML = docLinkHtml;\n",
              "        element.appendChild(docLink);\n",
              "      }\n",
              "    </script>\n",
              "  </div>\n",
              "\n",
              "\n",
              "<div id=\"df-ee4ec44e-3d02-4ab7-b6dc-9d447270e5f2\">\n",
              "  <button class=\"colab-df-quickchart\" onclick=\"quickchart('df-ee4ec44e-3d02-4ab7-b6dc-9d447270e5f2')\"\n",
              "            title=\"Suggest charts.\"\n",
              "            style=\"display:none;\">\n",
              "\n",
              "<svg xmlns=\"http://www.w3.org/2000/svg\" height=\"24px\"viewBox=\"0 0 24 24\"\n",
              "     width=\"24px\">\n",
              "    <g>\n",
              "        <path d=\"M19 3H5c-1.1 0-2 .9-2 2v14c0 1.1.9 2 2 2h14c1.1 0 2-.9 2-2V5c0-1.1-.9-2-2-2zM9 17H7v-7h2v7zm4 0h-2V7h2v10zm4 0h-2v-4h2v4z\"/>\n",
              "    </g>\n",
              "</svg>\n",
              "  </button>\n",
              "\n",
              "<style>\n",
              "  .colab-df-quickchart {\n",
              "      --bg-color: #E8F0FE;\n",
              "      --fill-color: #1967D2;\n",
              "      --hover-bg-color: #E2EBFA;\n",
              "      --hover-fill-color: #174EA6;\n",
              "      --disabled-fill-color: #AAA;\n",
              "      --disabled-bg-color: #DDD;\n",
              "  }\n",
              "\n",
              "  [theme=dark] .colab-df-quickchart {\n",
              "      --bg-color: #3B4455;\n",
              "      --fill-color: #D2E3FC;\n",
              "      --hover-bg-color: #434B5C;\n",
              "      --hover-fill-color: #FFFFFF;\n",
              "      --disabled-bg-color: #3B4455;\n",
              "      --disabled-fill-color: #666;\n",
              "  }\n",
              "\n",
              "  .colab-df-quickchart {\n",
              "    background-color: var(--bg-color);\n",
              "    border: none;\n",
              "    border-radius: 50%;\n",
              "    cursor: pointer;\n",
              "    display: none;\n",
              "    fill: var(--fill-color);\n",
              "    height: 32px;\n",
              "    padding: 0;\n",
              "    width: 32px;\n",
              "  }\n",
              "\n",
              "  .colab-df-quickchart:hover {\n",
              "    background-color: var(--hover-bg-color);\n",
              "    box-shadow: 0 1px 2px rgba(60, 64, 67, 0.3), 0 1px 3px 1px rgba(60, 64, 67, 0.15);\n",
              "    fill: var(--button-hover-fill-color);\n",
              "  }\n",
              "\n",
              "  .colab-df-quickchart-complete:disabled,\n",
              "  .colab-df-quickchart-complete:disabled:hover {\n",
              "    background-color: var(--disabled-bg-color);\n",
              "    fill: var(--disabled-fill-color);\n",
              "    box-shadow: none;\n",
              "  }\n",
              "\n",
              "  .colab-df-spinner {\n",
              "    border: 2px solid var(--fill-color);\n",
              "    border-color: transparent;\n",
              "    border-bottom-color: var(--fill-color);\n",
              "    animation:\n",
              "      spin 1s steps(1) infinite;\n",
              "  }\n",
              "\n",
              "  @keyframes spin {\n",
              "    0% {\n",
              "      border-color: transparent;\n",
              "      border-bottom-color: var(--fill-color);\n",
              "      border-left-color: var(--fill-color);\n",
              "    }\n",
              "    20% {\n",
              "      border-color: transparent;\n",
              "      border-left-color: var(--fill-color);\n",
              "      border-top-color: var(--fill-color);\n",
              "    }\n",
              "    30% {\n",
              "      border-color: transparent;\n",
              "      border-left-color: var(--fill-color);\n",
              "      border-top-color: var(--fill-color);\n",
              "      border-right-color: var(--fill-color);\n",
              "    }\n",
              "    40% {\n",
              "      border-color: transparent;\n",
              "      border-right-color: var(--fill-color);\n",
              "      border-top-color: var(--fill-color);\n",
              "    }\n",
              "    60% {\n",
              "      border-color: transparent;\n",
              "      border-right-color: var(--fill-color);\n",
              "    }\n",
              "    80% {\n",
              "      border-color: transparent;\n",
              "      border-right-color: var(--fill-color);\n",
              "      border-bottom-color: var(--fill-color);\n",
              "    }\n",
              "    90% {\n",
              "      border-color: transparent;\n",
              "      border-bottom-color: var(--fill-color);\n",
              "    }\n",
              "  }\n",
              "</style>\n",
              "\n",
              "  <script>\n",
              "    async function quickchart(key) {\n",
              "      const quickchartButtonEl =\n",
              "        document.querySelector('#' + key + ' button');\n",
              "      quickchartButtonEl.disabled = true;  // To prevent multiple clicks.\n",
              "      quickchartButtonEl.classList.add('colab-df-spinner');\n",
              "      try {\n",
              "        const charts = await google.colab.kernel.invokeFunction(\n",
              "            'suggestCharts', [key], {});\n",
              "      } catch (error) {\n",
              "        console.error('Error during call to suggestCharts:', error);\n",
              "      }\n",
              "      quickchartButtonEl.classList.remove('colab-df-spinner');\n",
              "      quickchartButtonEl.classList.add('colab-df-quickchart-complete');\n",
              "    }\n",
              "    (() => {\n",
              "      let quickchartButtonEl =\n",
              "        document.querySelector('#df-ee4ec44e-3d02-4ab7-b6dc-9d447270e5f2 button');\n",
              "      quickchartButtonEl.style.display =\n",
              "        google.colab.kernel.accessAllowed ? 'block' : 'none';\n",
              "    })();\n",
              "  </script>\n",
              "</div>\n",
              "    </div>\n",
              "  </div>\n"
            ]
          },
          "metadata": {},
          "execution_count": 23
        }
      ]
    },
    {
      "cell_type": "code",
      "source": [
        "beerNameList = []\n",
        "for i in range(16):\n",
        "  beerNameList.append(beernames.index[i])\n",
        "print(beerNameList)"
      ],
      "metadata": {
        "colab": {
          "base_uri": "https://localhost:8080/"
        },
        "id": "wKv27MoOjTxv",
        "outputId": "64445217-4790-4dd3-9855-466b6ac653ab"
      },
      "execution_count": null,
      "outputs": [
        {
          "output_type": "stream",
          "name": "stdout",
          "text": [
            "['founder breakfast stout', 'founder kb kentucki breakfast stout', 'founder centenni ipa', 'founder red rye pa', 'founder dirti bastard', 'pilsner urquel', 'founder doubl troubl', 'founder imperi stout', 'founder devil dancer', 'founder backwood bastard', 'founder porter', 'founder nemesi', 'aecht schlenkerla rauchbier rzen', 'b r crusher oatmeal imperi stout', 'founder curmudgeon old ale', 'stoudt doubl ipa india pale ale']\n"
          ]
        }
      ]
    },
    {
      "cell_type": "code",
      "source": [
        "beertype = df['clean_beerTypes'].value_counts()\n",
        "print('Number of beer types are : {0}'.format(len(beertype)))\n",
        "print(beertype[beertype > 500])"
      ],
      "metadata": {
        "colab": {
          "base_uri": "https://localhost:8080/"
        },
        "id": "XPOjDuP6jbOY",
        "outputId": "8ec820dc-446c-4958-8914-a4d655ed9862"
      },
      "execution_count": null,
      "outputs": [
        {
          "output_type": "stream",
          "name": "stdout",
          "text": [
            "Number of beer types are : 95\n",
            "american doubl imperi stout        4490\n",
            "american ipa                       3048\n",
            "american doubl imperi ipa          2871\n",
            "scotch ale wee heavi               2133\n",
            "russian imperi stout               2030\n",
            "american pale ale apa              1711\n",
            "american porter                    1687\n",
            "rauchbier                          1462\n",
            "rye beer                           1355\n",
            "czech pilsen                       1130\n",
            "fruit veget beer                   1021\n",
            "english pale ale                    971\n",
            "old ale                             783\n",
            "doppelbock                          669\n",
            "american barleywin                  634\n",
            "euro pale lager                     522\n",
            "extra special strong bitter esb     505\n",
            "Name: clean_beerTypes, dtype: int64\n"
          ]
        }
      ]
    },
    {
      "cell_type": "code",
      "source": [
        "beerTypeList = []\n",
        "for i in range(17):\n",
        "  beerTypeList.append(beertype.index[i])\n",
        "print(beerTypeList)"
      ],
      "metadata": {
        "colab": {
          "base_uri": "https://localhost:8080/"
        },
        "id": "hUZEubxajx0E",
        "outputId": "cd0a7a85-16c9-42a7-f08d-af97c3df7490"
      },
      "execution_count": null,
      "outputs": [
        {
          "output_type": "stream",
          "name": "stdout",
          "text": [
            "['american doubl imperi stout', 'american ipa', 'american doubl imperi ipa', 'scotch ale wee heavi', 'russian imperi stout', 'american pale ale apa', 'american porter', 'rauchbier', 'rye beer', 'czech pilsen', 'fruit veget beer', 'english pale ale', 'old ale', 'doppelbock', 'american barleywin', 'euro pale lager', 'extra special strong bitter esb']\n"
          ]
        }
      ]
    },
    {
      "cell_type": "code",
      "source": [
        "\n",
        "\n",
        "df.clean_beerNames= df.clean_beerNames.astype(CategoricalDtype(categories=beerNameList))"
      ],
      "metadata": {
        "id": "Pzki4mE1j0CD"
      },
      "execution_count": null,
      "outputs": []
    },
    {
      "cell_type": "code",
      "source": [
        "df.clean_beerTypes= df.clean_beerTypes.astype(CategoricalDtype(categories=beerTypeList))"
      ],
      "metadata": {
        "id": "e0xtho1ej-n0"
      },
      "execution_count": null,
      "outputs": []
    },
    {
      "cell_type": "code",
      "source": [
        "beertext = conv(df,'review/text')\n",
        "df['clean_beerText'] = beertext\n",
        "df.drop('review/text',axis=1,inplace=True)"
      ],
      "metadata": {
        "id": "QJykYjpdkJA6"
      },
      "execution_count": null,
      "outputs": []
    },
    {
      "cell_type": "code",
      "source": [
        "beerId = df['beer/beerId'].value_counts()\n",
        "print('Number of beer ids are : {0}'.format(len(beerId)))\n",
        "print(beerId[beerId > 500])"
      ],
      "metadata": {
        "colab": {
          "base_uri": "https://localhost:8080/"
        },
        "id": "9RSWUo4WmLHb",
        "outputId": "be7335ba-3e34-4399-c396-c49228b261a7"
      },
      "execution_count": null,
      "outputs": [
        {
          "output_type": "stream",
          "name": "stdout",
          "text": [
            "Number of beer ids are : 1731\n",
            "11757    1882\n",
            "19960    1438\n",
            "5441     1063\n",
            "16074    1051\n",
            "7463      983\n",
            "429       946\n",
            "34146     857\n",
            "21822     805\n",
            "17538     799\n",
            "35036     778\n",
            "7348      675\n",
            "727       665\n",
            "33644     635\n",
            "24905     574\n",
            "20470     538\n",
            "Name: beer/beerId, dtype: int64\n"
          ]
        }
      ]
    },
    {
      "cell_type": "code",
      "source": [
        "beerIdList = []\n",
        "for i in range(15):\n",
        "  beerIdList.append(beerId.index[i])\n",
        "print(beerIdList)"
      ],
      "metadata": {
        "colab": {
          "base_uri": "https://localhost:8080/"
        },
        "id": "4Xb3Ab0MmQr3",
        "outputId": "30b83f7e-1d3d-4040-e31d-9bfaf1641087"
      },
      "execution_count": null,
      "outputs": [
        {
          "output_type": "stream",
          "name": "stdout",
          "text": [
            "[11757, 19960, 5441, 16074, 7463, 429, 34146, 21822, 17538, 35036, 7348, 727, 33644, 24905, 20470]\n"
          ]
        }
      ]
    },
    {
      "cell_type": "code",
      "source": [
        "df['beer/beerId']= df['beer/beerId'].astype(CategoricalDtype(categories=beerIdList))"
      ],
      "metadata": {
        "id": "IsWithTVkOkv"
      },
      "execution_count": null,
      "outputs": []
    },
    {
      "cell_type": "code",
      "source": [
        "brewerId = df['beer/brewerId'].value_counts()\n",
        "print('Number of brewer ids are : {0}'.format(len(brewerId)))\n",
        "print(brewerId[brewerId > 500])\n"
      ],
      "metadata": {
        "colab": {
          "base_uri": "https://localhost:8080/"
        },
        "id": "4fyf_x7ImVIv",
        "outputId": "ac6c847e-7de8-4baa-b89e-1a66ef744b68"
      },
      "execution_count": null,
      "outputs": [
        {
          "output_type": "stream",
          "name": "stdout",
          "text": [
            "Number of brewer ids are : 212\n",
            "1199     14968\n",
            "394       2936\n",
            "14879     2349\n",
            "263       1809\n",
            "3268      1277\n",
            "395       1225\n",
            "365       1069\n",
            "1         1016\n",
            "1417       908\n",
            "14         834\n",
            "568        785\n",
            "1075       666\n",
            "1315       601\n",
            "Name: beer/brewerId, dtype: int64\n"
          ]
        }
      ]
    },
    {
      "cell_type": "code",
      "source": [
        "brewerIdList = []\n",
        "for i in range(15):\n",
        "  brewerIdList.append(brewerId.index[i])\n",
        "print(brewerIdList)"
      ],
      "metadata": {
        "colab": {
          "base_uri": "https://localhost:8080/"
        },
        "id": "lKpJ3su_mh_h",
        "outputId": "9f37934a-f2b3-4b0b-d3ec-7ed1a46f0322"
      },
      "execution_count": null,
      "outputs": [
        {
          "output_type": "stream",
          "name": "stdout",
          "text": [
            "[1199, 394, 14879, 263, 3268, 395, 365, 1, 1417, 14, 568, 1075, 1315, 9020, 60]\n"
          ]
        }
      ]
    },
    {
      "cell_type": "code",
      "source": [
        "df['beer/brewerId']= df['beer/brewerId'].astype(CategoricalDtype(categories=brewerIdList))"
      ],
      "metadata": {
        "id": "23sW6KiZmbau"
      },
      "execution_count": null,
      "outputs": []
    },
    {
      "cell_type": "code",
      "source": [
        "df.drop(['level_0', 'index','review/timeStruct','user/profileName','user/birthdayRaw'],axis=1,inplace=True)"
      ],
      "metadata": {
        "id": "sd1wvorBmZJm"
      },
      "execution_count": null,
      "outputs": []
    },
    {
      "cell_type": "markdown",
      "source": [
        "######Check Correlations"
      ],
      "metadata": {
        "id": "ONsZltncmxt-"
      }
    },
    {
      "cell_type": "code",
      "source": [
        "plt.figure(figsize=(20,15))\n",
        "sns.heatmap(df.corr(),annot=True)\n",
        "plt.show()"
      ],
      "metadata": {
        "colab": {
          "base_uri": "https://localhost:8080/",
          "height": 1000
        },
        "id": "0o4-eD_Um4Zu",
        "outputId": "c9eac8e2-d147-442e-dbbc-3dd4047b25e4"
      },
      "execution_count": null,
      "outputs": [
        {
          "output_type": "stream",
          "name": "stderr",
          "text": [
            "<ipython-input-37-8a86e50fe70c>:2: FutureWarning: The default value of numeric_only in DataFrame.corr is deprecated. In a future version, it will default to False. Select only valid columns or specify the value of numeric_only to silence this warning.\n",
            "  sns.heatmap(df.corr(),annot=True)\n"
          ]
        },
        {
          "output_type": "display_data",
          "data": {
            "text/plain": [
              "<Figure size 2000x1500 with 2 Axes>"
            ],
            "image/png": "[encoded data removed]"
          },
          "metadata": {}
        }
      ]
    },
    {
      "cell_type": "code",
      "source": [
        "df['beer/brewerId'] = df['beer/brewerId'].cat.add_categories('0')\n",
        "df['beer/brewerId'].fillna('0', inplace=True)"
      ],
      "metadata": {
        "id": "ZcdwVbSrm4j-"
      },
      "execution_count": null,
      "outputs": []
    },
    {
      "cell_type": "code",
      "source": [
        "df = df.sample(frac=1).reset_index(drop=True)"
      ],
      "metadata": {
        "id": "Q-KsQX4woibr"
      },
      "execution_count": null,
      "outputs": []
    },
    {
      "cell_type": "markdown",
      "source": [
        "######Train Test Split"
      ],
      "metadata": {
        "id": "noep2LJfq6kr"
      }
    },
    {
      "cell_type": "code",
      "source": [
        "df.head(2)"
      ],
      "metadata": {
        "colab": {
          "base_uri": "https://localhost:8080/",
          "height": 214
        },
        "id": "E1-qp_RGrLGs",
        "outputId": "2a132729-c1f2-41f3-f3d5-24d578b48a51"
      },
      "execution_count": null,
      "outputs": [
        {
          "output_type": "execute_result",
          "data": {
            "text/plain": [
              "   beer/ABV beer/beerId beer/brewerId  review/appearance  review/aroma  \\\n",
              "0       5.0         NaN           394                4.0           4.0   \n",
              "1       5.0         NaN           394                3.5           4.5   \n",
              "\n",
              "   review/overall  review/palate  review/taste  review/timeUnix  \\\n",
              "0             4.5            3.5           4.5       1077558434   \n",
              "1             4.0            3.5           4.0       1221196802   \n",
              "\n",
              "   user/ageInSeconds  user/birthdayUnix user/gender clean_beerNames  \\\n",
              "0       1.032876e+09        385459200.0        Male             NaN   \n",
              "1       1.100009e+09        318326400.0        Male             NaN   \n",
              "\n",
              "                   clean_beerTypes  \\\n",
              "0  extra special strong bitter esb   \n",
              "1                              NaN   \n",
              "\n",
              "                                      clean_beerText  \n",
              "0  beer great feel drink defiantli best esb yet e...  \n",
              "1  light crystal clear copper color medium head w...  "
            ],
            "text/html": [
              "\n",
              "  <div id=\"df-af967994-09dc-47d0-afa0-cb5e70b6a7fe\" class=\"colab-df-container\">\n",
              "    <div>\n",
              "<style scoped>\n",
              "    .dataframe tbody tr th:only-of-type {\n",
              "        vertical-align: middle;\n",
              "    }\n",
              "\n",
              "    .dataframe tbody tr th {\n",
              "        vertical-align: top;\n",
              "    }\n",
              "\n",
              "    .dataframe thead th {\n",
              "        text-align: right;\n",
              "    }\n",
              "</style>\n",
              "<table border=\"1\" class=\"dataframe\">\n",
              "  <thead>\n",
              "    <tr style=\"text-align: right;\">\n",
              "      <th></th>\n",
              "      <th>beer/ABV</th>\n",
              "      <th>beer/beerId</th>\n",
              "      <th>beer/brewerId</th>\n",
              "      <th>review/appearance</th>\n",
              "      <th>review/aroma</th>\n",
              "      <th>review/overall</th>\n",
              "      <th>review/palate</th>\n",
              "      <th>review/taste</th>\n",
              "      <th>review/timeUnix</th>\n",
              "      <th>user/ageInSeconds</th>\n",
              "      <th>user/birthdayUnix</th>\n",
              "      <th>user/gender</th>\n",
              "      <th>clean_beerNames</th>\n",
              "      <th>clean_beerTypes</th>\n",
              "      <th>clean_beerText</th>\n",
              "    </tr>\n",
              "  </thead>\n",
              "  <tbody>\n",
              "    <tr>\n",
              "      <th>0</th>\n",
              "      <td>5.0</td>\n",
              "      <td>NaN</td>\n",
              "      <td>394</td>\n",
              "      <td>4.0</td>\n",
              "      <td>4.0</td>\n",
              "      <td>4.5</td>\n",
              "      <td>3.5</td>\n",
              "      <td>4.5</td>\n",
              "      <td>1077558434</td>\n",
              "      <td>1.032876e+09</td>\n",
              "      <td>385459200.0</td>\n",
              "      <td>Male</td>\n",
              "      <td>NaN</td>\n",
              "      <td>extra special strong bitter esb</td>\n",
              "      <td>beer great feel drink defiantli best esb yet e...</td>\n",
              "    </tr>\n",
              "    <tr>\n",
              "      <th>1</th>\n",
              "      <td>5.0</td>\n",
              "      <td>NaN</td>\n",
              "      <td>394</td>\n",
              "      <td>3.5</td>\n",
              "      <td>4.5</td>\n",
              "      <td>4.0</td>\n",
              "      <td>3.5</td>\n",
              "      <td>4.0</td>\n",
              "      <td>1221196802</td>\n",
              "      <td>1.100009e+09</td>\n",
              "      <td>318326400.0</td>\n",
              "      <td>Male</td>\n",
              "      <td>NaN</td>\n",
              "      <td>NaN</td>\n",
              "      <td>light crystal clear copper color medium head w...</td>\n",
              "    </tr>\n",
              "  </tbody>\n",
              "</table>\n",
              "</div>\n",
              "    <div class=\"colab-df-buttons\">\n",
              "\n",
              "  <div class=\"colab-df-container\">\n",
              "    <button class=\"colab-df-convert\" onclick=\"convertToInteractive('df-af967994-09dc-47d0-afa0-cb5e70b6a7fe')\"\n",
              "            title=\"Convert this dataframe to an interactive table.\"\n",
              "            style=\"display:none;\">\n",
              "\n",
              "  <svg xmlns=\"http://www.w3.org/2000/svg\" height=\"24px\" viewBox=\"0 -960 960 960\">\n",
              "    <path d=\"M120-120v-720h720v720H120Zm60-500h600v-160H180v160Zm220 220h160v-160H400v160Zm0 220h160v-160H400v160ZM180-400h160v-160H180v160Zm440 0h160v-160H620v160ZM180-180h160v-160H180v160Zm440 0h160v-160H620v160Z\"/>\n",
              "  </svg>\n",
              "    </button>\n",
              "\n",
              "  <style>\n",
              "    .colab-df-container {\n",
              "      display:flex;\n",
              "      gap: 12px;\n",
              "    }\n",
              "\n",
              "    .colab-df-convert {\n",
              "      background-color: #E8F0FE;\n",
              "      border: none;\n",
              "      border-radius: 50%;\n",
              "      cursor: pointer;\n",
              "      display: none;\n",
              "      fill: #1967D2;\n",
              "      height: 32px;\n",
              "      padding: 0 0 0 0;\n",
              "      width: 32px;\n",
              "    }\n",
              "\n",
              "    .colab-df-convert:hover {\n",
              "      background-color: #E2EBFA;\n",
              "      box-shadow: 0px 1px 2px rgba(60, 64, 67, 0.3), 0px 1px 3px 1px rgba(60, 64, 67, 0.15);\n",
              "      fill: #174EA6;\n",
              "    }\n",
              "\n",
              "    .colab-df-buttons div {\n",
              "      margin-bottom: 4px;\n",
              "    }\n",
              "\n",
              "    [theme=dark] .colab-df-convert {\n",
              "      background-color: #3B4455;\n",
              "      fill: #D2E3FC;\n",
              "    }\n",
              "\n",
              "    [theme=dark] .colab-df-convert:hover {\n",
              "      background-color: #434B5C;\n",
              "      box-shadow: 0px 1px 3px 1px rgba(0, 0, 0, 0.15);\n",
              "      filter: drop-shadow(0px 1px 2px rgba(0, 0, 0, 0.3));\n",
              "      fill: #FFFFFF;\n",
              "    }\n",
              "  </style>\n",
              "\n",
              "    <script>\n",
              "      const buttonEl =\n",
              "        document.querySelector('#df-af967994-09dc-47d0-afa0-cb5e70b6a7fe button.colab-df-convert');\n",
              "      buttonEl.style.display =\n",
              "        google.colab.kernel.accessAllowed ? 'block' : 'none';\n",
              "\n",
              "      async function convertToInteractive(key) {\n",
              "        const element = document.querySelector('#df-af967994-09dc-47d0-afa0-cb5e70b6a7fe');\n",
              "        const dataTable =\n",
              "          await google.colab.kernel.invokeFunction('convertToInteractive',\n",
              "                                                    [key], {});\n",
              "        if (!dataTable) return;\n",
              "\n",
              "        const docLinkHtml = 'Like what you see? Visit the ' +\n",
              "          '<a target=\"_blank\" href=https://colab.research.google.com/notebooks/data_table.ipynb>data table notebook</a>'\n",
              "          + ' to learn more about interactive tables.';\n",
              "        element.innerHTML = '';\n",
              "        dataTable['output_type'] = 'display_data';\n",
              "        await google.colab.output.renderOutput(dataTable, element);\n",
              "        const docLink = document.createElement('div');\n",
              "        docLink.innerHTML = docLinkHtml;\n",
              "        element.appendChild(docLink);\n",
              "      }\n",
              "    </script>\n",
              "  </div>\n",
              "\n",
              "\n",
              "<div id=\"df-0375f1fe-52cd-42e8-bd33-f723a07a2bab\">\n",
              "  <button class=\"colab-df-quickchart\" onclick=\"quickchart('df-0375f1fe-52cd-42e8-bd33-f723a07a2bab')\"\n",
              "            title=\"Suggest charts.\"\n",
              "            style=\"display:none;\">\n",
              "\n",
              "<svg xmlns=\"http://www.w3.org/2000/svg\" height=\"24px\"viewBox=\"0 0 24 24\"\n",
              "     width=\"24px\">\n",
              "    <g>\n",
              "        <path d=\"M19 3H5c-1.1 0-2 .9-2 2v14c0 1.1.9 2 2 2h14c1.1 0 2-.9 2-2V5c0-1.1-.9-2-2-2zM9 17H7v-7h2v7zm4 0h-2V7h2v10zm4 0h-2v-4h2v4z\"/>\n",
              "    </g>\n",
              "</svg>\n",
              "  </button>\n",
              "\n",
              "<style>\n",
              "  .colab-df-quickchart {\n",
              "      --bg-color: #E8F0FE;\n",
              "      --fill-color: #1967D2;\n",
              "      --hover-bg-color: #E2EBFA;\n",
              "      --hover-fill-color: #174EA6;\n",
              "      --disabled-fill-color: #AAA;\n",
              "      --disabled-bg-color: #DDD;\n",
              "  }\n",
              "\n",
              "  [theme=dark] .colab-df-quickchart {\n",
              "      --bg-color: #3B4455;\n",
              "      --fill-color: #D2E3FC;\n",
              "      --hover-bg-color: #434B5C;\n",
              "      --hover-fill-color: #FFFFFF;\n",
              "      --disabled-bg-color: #3B4455;\n",
              "      --disabled-fill-color: #666;\n",
              "  }\n",
              "\n",
              "  .colab-df-quickchart {\n",
              "    background-color: var(--bg-color);\n",
              "    border: none;\n",
              "    border-radius: 50%;\n",
              "    cursor: pointer;\n",
              "    display: none;\n",
              "    fill: var(--fill-color);\n",
              "    height: 32px;\n",
              "    padding: 0;\n",
              "    width: 32px;\n",
              "  }\n",
              "\n",
              "  .colab-df-quickchart:hover {\n",
              "    background-color: var(--hover-bg-color);\n",
              "    box-shadow: 0 1px 2px rgba(60, 64, 67, 0.3), 0 1px 3px 1px rgba(60, 64, 67, 0.15);\n",
              "    fill: var(--button-hover-fill-color);\n",
              "  }\n",
              "\n",
              "  .colab-df-quickchart-complete:disabled,\n",
              "  .colab-df-quickchart-complete:disabled:hover {\n",
              "    background-color: var(--disabled-bg-color);\n",
              "    fill: var(--disabled-fill-color);\n",
              "    box-shadow: none;\n",
              "  }\n",
              "\n",
              "  .colab-df-spinner {\n",
              "    border: 2px solid var(--fill-color);\n",
              "    border-color: transparent;\n",
              "    border-bottom-color: var(--fill-color);\n",
              "    animation:\n",
              "      spin 1s steps(1) infinite;\n",
              "  }\n",
              "\n",
              "  @keyframes spin {\n",
              "    0% {\n",
              "      border-color: transparent;\n",
              "      border-bottom-color: var(--fill-color);\n",
              "      border-left-color: var(--fill-color);\n",
              "    }\n",
              "    20% {\n",
              "      border-color: transparent;\n",
              "      border-left-color: var(--fill-color);\n",
              "      border-top-color: var(--fill-color);\n",
              "    }\n",
              "    30% {\n",
              "      border-color: transparent;\n",
              "      border-left-color: var(--fill-color);\n",
              "      border-top-color: var(--fill-color);\n",
              "      border-right-color: var(--fill-color);\n",
              "    }\n",
              "    40% {\n",
              "      border-color: transparent;\n",
              "      border-right-color: var(--fill-color);\n",
              "      border-top-color: var(--fill-color);\n",
              "    }\n",
              "    60% {\n",
              "      border-color: transparent;\n",
              "      border-right-color: var(--fill-color);\n",
              "    }\n",
              "    80% {\n",
              "      border-color: transparent;\n",
              "      border-right-color: var(--fill-color);\n",
              "      border-bottom-color: var(--fill-color);\n",
              "    }\n",
              "    90% {\n",
              "      border-color: transparent;\n",
              "      border-bottom-color: var(--fill-color);\n",
              "    }\n",
              "  }\n",
              "</style>\n",
              "\n",
              "  <script>\n",
              "    async function quickchart(key) {\n",
              "      const quickchartButtonEl =\n",
              "        document.querySelector('#' + key + ' button');\n",
              "      quickchartButtonEl.disabled = true;  // To prevent multiple clicks.\n",
              "      quickchartButtonEl.classList.add('colab-df-spinner');\n",
              "      try {\n",
              "        const charts = await google.colab.kernel.invokeFunction(\n",
              "            'suggestCharts', [key], {});\n",
              "      } catch (error) {\n",
              "        console.error('Error during call to suggestCharts:', error);\n",
              "      }\n",
              "      quickchartButtonEl.classList.remove('colab-df-spinner');\n",
              "      quickchartButtonEl.classList.add('colab-df-quickchart-complete');\n",
              "    }\n",
              "    (() => {\n",
              "      let quickchartButtonEl =\n",
              "        document.querySelector('#df-0375f1fe-52cd-42e8-bd33-f723a07a2bab button');\n",
              "      quickchartButtonEl.style.display =\n",
              "        google.colab.kernel.accessAllowed ? 'block' : 'none';\n",
              "    })();\n",
              "  </script>\n",
              "</div>\n",
              "    </div>\n",
              "  </div>\n"
            ]
          },
          "metadata": {},
          "execution_count": 40
        }
      ]
    },
    {
      "cell_type": "code",
      "source": [
        "df.dropna(inplace=True)"
      ],
      "metadata": {
        "id": "6TF1JphYBZ3n"
      },
      "execution_count": null,
      "outputs": []
    },
    {
      "cell_type": "code",
      "source": [
        "df.isnull().sum()"
      ],
      "metadata": {
        "colab": {
          "base_uri": "https://localhost:8080/"
        },
        "id": "SfA2hc9hBg9W",
        "outputId": "4fed0c2b-b8c2-4525-96c0-f7290bdc289e"
      },
      "execution_count": null,
      "outputs": [
        {
          "output_type": "execute_result",
          "data": {
            "text/plain": [
              "beer/ABV             0\n",
              "beer/beerId          0\n",
              "beer/brewerId        0\n",
              "review/appearance    0\n",
              "review/aroma         0\n",
              "review/overall       0\n",
              "review/palate        0\n",
              "review/taste         0\n",
              "review/timeUnix      0\n",
              "user/ageInSeconds    0\n",
              "user/birthdayUnix    0\n",
              "user/gender          0\n",
              "clean_beerNames      0\n",
              "clean_beerTypes      0\n",
              "clean_beerText       0\n",
              "dtype: int64"
            ]
          },
          "metadata": {},
          "execution_count": 42
        }
      ]
    },
    {
      "cell_type": "code",
      "source": [
        "independent_variable = df.columns\n",
        "dependent_variable = 'review/overall'\n"
      ],
      "metadata": {
        "id": "1unzigZItF4J"
      },
      "execution_count": null,
      "outputs": []
    },
    {
      "cell_type": "code",
      "source": [
        "x = df[independent_variable]\n",
        "y = df[dependent_variable]"
      ],
      "metadata": {
        "id": "DWiFwYVFtY2Q"
      },
      "execution_count": null,
      "outputs": []
    },
    {
      "cell_type": "code",
      "source": [
        "x_train, x_test,y_train, y_test  = train_test_split(x,y,test_size=0.3,random_state = 42)"
      ],
      "metadata": {
        "id": "kperxnmYttxR"
      },
      "execution_count": null,
      "outputs": []
    },
    {
      "cell_type": "markdown",
      "source": [
        "######Vectorise Numerical Features\n"
      ],
      "metadata": {
        "id": "N6EiBoI1vYvv"
      }
    },
    {
      "cell_type": "code",
      "source": [
        "def numerical_vectorizations(m,o):\n",
        "\n",
        "    scalars = StandardScaler()\n",
        "    scalars.fit(m.values.reshape(-1,1))\n",
        "    print(f\"Mean : {scalars.mean_[0]}, Standard deviation : {np.sqrt(scalars.var_[0])}\")\n",
        "\n",
        "    standardized_train = scalars.transform(m.values.reshape(-1, 1))\n",
        "    standardized_test = scalars.transform(o.values.reshape(-1, 1))\n",
        "    return standardized_train,standardized_test\n"
      ],
      "metadata": {
        "id": "gTXrrXhl2ftL"
      },
      "execution_count": null,
      "outputs": []
    },
    {
      "cell_type": "code",
      "source": [
        "std_train_1 ,std_test_1 = numerical_vectorizations(x_train['beer/ABV'],x_test['beer/ABV'])\n"
      ],
      "metadata": {
        "colab": {
          "base_uri": "https://localhost:8080/"
        },
        "id": "LvBnboqU2-Ha",
        "outputId": "f62b399a-d0db-41e6-b649-3d754c411eb3"
      },
      "execution_count": null,
      "outputs": [
        {
          "output_type": "stream",
          "name": "stdout",
          "text": [
            "Mean : 8.603391776247129, Standard deviation : 2.079699308521987\n"
          ]
        }
      ]
    },
    {
      "cell_type": "code",
      "source": [
        "x_train['beer/beerId']= pd.to_numeric(x_train['beer/beerId'], errors='coerce')\n",
        "x_test['beer/beerId']= pd.to_numeric(x_test['beer/beerId'], errors='coerce')\n",
        "\n",
        "std_train_2 ,std_test_2 = numerical_vectorizations(x_train['beer/beerId'],x_test['beer/beerId'])\n"
      ],
      "metadata": {
        "colab": {
          "base_uri": "https://localhost:8080/"
        },
        "id": "pSednDyC2fwj",
        "outputId": "dc5148c2-0791-4cb6-af37-6491d43de0bb"
      },
      "execution_count": null,
      "outputs": [
        {
          "output_type": "stream",
          "name": "stdout",
          "text": [
            "Mean : 16203.198288457525, Standard deviation : 10628.939057150288\n"
          ]
        }
      ]
    },
    {
      "cell_type": "code",
      "source": [
        "x_train['beer/brewerId']= pd.to_numeric(x_train['beer/brewerId'], errors='coerce')\n",
        "x_test['beer/brewerId']= pd.to_numeric(x_test['beer/brewerId'], errors='coerce')\n",
        "\n",
        "std_train_3 ,std_test_3 = numerical_vectorizations(x_train['beer/brewerId'],x_test['beer/brewerId'])\n"
      ],
      "metadata": {
        "colab": {
          "base_uri": "https://localhost:8080/"
        },
        "id": "XRb-kq0E2fzr",
        "outputId": "8a27efd9-43cc-4136-c84c-18291ce8e5d7"
      },
      "execution_count": null,
      "outputs": [
        {
          "output_type": "stream",
          "name": "stdout",
          "text": [
            "Mean : 1667.7745773324984, Standard deviation : 2922.3898668779984\n"
          ]
        }
      ]
    },
    {
      "cell_type": "code",
      "source": [
        "x_train['review/appearance']= pd.to_numeric(x_train['review/appearance'], errors='coerce')\n",
        "x_test['review/appearance']= pd.to_numeric(x_test['review/appearance'], errors='coerce')\n",
        "\n",
        "std_train_4 ,std_test_4 = numerical_vectorizations(x_train['review/appearance'],x_test['review/appearance'])\n"
      ],
      "metadata": {
        "colab": {
          "base_uri": "https://localhost:8080/"
        },
        "id": "zu0_RyYW2f6D",
        "outputId": "3d7c6012-6074-4d21-90b2-b80afcac5e31"
      },
      "execution_count": null,
      "outputs": [
        {
          "output_type": "stream",
          "name": "stdout",
          "text": [
            "Mean : 4.104675433103736, Standard deviation : 0.4994267785552417\n"
          ]
        }
      ]
    },
    {
      "cell_type": "code",
      "source": [
        "x_train['review/aroma']= pd.to_numeric(x_train['review/aroma'], errors='coerce')\n",
        "x_test['review/aroma']= pd.to_numeric(x_test['review/aroma'], errors='coerce')\n",
        "\n",
        "std_train_5 ,std_test_5 = numerical_vectorizations(x_train['review/aroma'],x_test['review/aroma'])\n"
      ],
      "metadata": {
        "colab": {
          "base_uri": "https://localhost:8080/"
        },
        "id": "yDo-2Azd2f9S",
        "outputId": "71029290-a94b-4c66-e01a-d49cda31ef44"
      },
      "execution_count": null,
      "outputs": [
        {
          "output_type": "stream",
          "name": "stdout",
          "text": [
            "Mean : 4.1559173450219165, Standard deviation : 0.560804901924984\n"
          ]
        }
      ]
    },
    {
      "cell_type": "code",
      "source": [
        "x_train['review/palate']= pd.to_numeric(x_train['review/palate'], errors='coerce')\n",
        "x_test['review/palate']= pd.to_numeric(x_test['review/palate'], errors='coerce')\n",
        "\n",
        "std_train_6 ,std_test_6 = numerical_vectorizations(x_train['review/palate'],x_test['review/palate'])\n"
      ],
      "metadata": {
        "colab": {
          "base_uri": "https://localhost:8080/"
        },
        "id": "63Q2ier42gAM",
        "outputId": "259a9243-e79d-4620-c9dc-f17b9010cf5d"
      },
      "execution_count": null,
      "outputs": [
        {
          "output_type": "stream",
          "name": "stdout",
          "text": [
            "Mean : 4.124399916510123, Standard deviation : 0.5443889701455262\n"
          ]
        }
      ]
    },
    {
      "cell_type": "code",
      "source": [
        "x_train['review/taste']= pd.to_numeric(x_train['review/taste'], errors='coerce')\n",
        "x_test['review/taste']= pd.to_numeric(x_test['review/taste'], errors='coerce')\n",
        "\n",
        "std_train_7 ,std_test_7 = numerical_vectorizations(x_train['review/taste'],x_test['review/taste'])\n"
      ],
      "metadata": {
        "colab": {
          "base_uri": "https://localhost:8080/"
        },
        "id": "nki6A-ex5lyJ",
        "outputId": "1a68a38c-fa5c-47b0-fd70-2812055ee463"
      },
      "execution_count": null,
      "outputs": [
        {
          "output_type": "stream",
          "name": "stdout",
          "text": [
            "Mean : 4.221978710081403, Standard deviation : 0.5719794004411328\n"
          ]
        }
      ]
    },
    {
      "cell_type": "code",
      "source": [
        "x_train['review/timeUnix']= pd.to_numeric(x_train['review/timeUnix'], errors='coerce')\n",
        "x_test['review/timeUnix']= pd.to_numeric(x_test['review/timeUnix'], errors='coerce')\n",
        "\n",
        "std_train_8 ,std_test_8 = numerical_vectorizations(x_train['review/timeUnix'],x_test['review/timeUnix'])\n"
      ],
      "metadata": {
        "colab": {
          "base_uri": "https://localhost:8080/"
        },
        "id": "VipNB0Vb7QFJ",
        "outputId": "0741df37-39d3-45a8-ed87-944a6857f8d6"
      },
      "execution_count": null,
      "outputs": [
        {
          "output_type": "stream",
          "name": "stdout",
          "text": [
            "Mean : 1242101537.222605, Standard deviation : 63495952.22203776\n"
          ]
        }
      ]
    },
    {
      "cell_type": "code",
      "source": [
        "x_train['user/ageInSeconds']= pd.to_numeric(x_train['user/ageInSeconds'], errors='coerce')\n",
        "x_test['user/ageInSeconds']= pd.to_numeric(x_test['user/ageInSeconds'], errors='coerce')\n",
        "\n",
        "std_train_9 ,std_test_9 = numerical_vectorizations(x_train['user/ageInSeconds'],x_test['user/ageInSeconds'])\n",
        "\n"
      ],
      "metadata": {
        "colab": {
          "base_uri": "https://localhost:8080/"
        },
        "id": "T_0Q8Qf-7YmZ",
        "outputId": "c090a460-f69f-4e6c-e18b-e486b6dc83ba"
      },
      "execution_count": null,
      "outputs": [
        {
          "output_type": "stream",
          "name": "stdout",
          "text": [
            "Mean : 1106966662.058756, Standard deviation : 143918696.64551622\n"
          ]
        }
      ]
    },
    {
      "cell_type": "code",
      "source": [
        "x_train['user/birthdayUnix']= pd.to_numeric(x_train['user/birthdayUnix'], errors='coerce')\n",
        "x_test['user/birthdayUnix']= pd.to_numeric(x_test['user/birthdayUnix'], errors='coerce')\n",
        "\n",
        "std_train_10 ,std_test_10 = numerical_vectorizations(x_train['user/birthdayUnix'],x_test['user/birthdayUnix'])\n"
      ],
      "metadata": {
        "colab": {
          "base_uri": "https://localhost:8080/"
        },
        "id": "76GmBzMu7fUT",
        "outputId": "6e4f7628-125a-4cb0-b436-b3ebb46258b7"
      },
      "execution_count": null,
      "outputs": [
        {
          "output_type": "stream",
          "name": "stdout",
          "text": [
            "Mean : 311368784.97182214, Standard deviation : 143918696.65019366\n"
          ]
        }
      ]
    },
    {
      "cell_type": "markdown",
      "source": [
        "######Vectorise Categorical Features"
      ],
      "metadata": {
        "id": "xmsRXEF77poZ"
      }
    },
    {
      "cell_type": "code",
      "source": [
        "from collections import Counter\n",
        "\n",
        "def categorical_vectorization(m,o):\n",
        "\n",
        "\n",
        "    my_counter = Counter()\n",
        "    for word in m.values:\n",
        "        my_counter.update(str(word).split())\n",
        "    category_dict = dict(my_counter)\n",
        "    sorted_dict = dict(sorted(category_dict.items(), key=lambda kv: kv[1]))\n",
        "\n",
        "\n",
        "    vectorizer = CountVectorizer(vocabulary=list(sorted_dict.keys()), lowercase=False, binary=True)\n",
        "    vectorizer.fit(m.values)\n",
        "\n",
        "\n",
        "    one_hot_train = vectorizer.transform(m.values)\n",
        "    one_hot_test = vectorizer.transform(o.values)\n",
        "    return one_hot_train, one_hot_test"
      ],
      "metadata": {
        "id": "dj1mKCaZ7mFl"
      },
      "execution_count": null,
      "outputs": []
    },
    {
      "cell_type": "code",
      "source": [
        "std_train_11 ,std_test_11 = categorical_vectorization(x_train['user/gender'],x_test['user/gender'])\n"
      ],
      "metadata": {
        "id": "LofgIXoA752r"
      },
      "execution_count": null,
      "outputs": []
    },
    {
      "cell_type": "code",
      "source": [
        "x_train['clean_beerNames'] = x_train['clean_beerNames'].cat.add_categories('missing')\n",
        "x_test['clean_beerNames'] = x_test['clean_beerNames'].cat.add_categories('missing')\n",
        "\n",
        "x_train['clean_beerNames'].fillna('missing', inplace=True)\n",
        "x_test['clean_beerNames'].fillna('missing', inplace=True)\n",
        "\n",
        "x_train['clean_beerTypes'] = x_train['clean_beerTypes'].cat.add_categories('missing')\n",
        "x_test['clean_beerTypes'] = x_test['clean_beerTypes'].cat.add_categories('missing')\n",
        "\n",
        "x_train['clean_beerTypes'].fillna('missing', inplace=True)\n",
        "x_test['clean_beerTypes'].fillna('missing', inplace=True)"
      ],
      "metadata": {
        "id": "4JmA1ZLo7-Fc"
      },
      "execution_count": null,
      "outputs": []
    },
    {
      "cell_type": "code",
      "source": [
        "preprocessed_beerNames_tr = []\n",
        "for i in x_train['clean_beerNames']:\n",
        "  preprocessed_beerNames_tr.append(i.replace(' ','_'))\n",
        "\n",
        "preprocessed_beerNames_te = []\n",
        "for i in x_test['clean_beerNames']:\n",
        "  preprocessed_beerNames_te.append(i.replace(' ','_'))"
      ],
      "metadata": {
        "id": "9mVh_K_981I-"
      },
      "execution_count": null,
      "outputs": []
    },
    {
      "cell_type": "code",
      "source": [
        "preprocessed_beerTypes_tr = []\n",
        "for i in x_train['clean_beerTypes']:\n",
        "  preprocessed_beerTypes_tr.append(i.replace(' ','_'))\n",
        "\n",
        "preprocessed_beerTypes_te = []\n",
        "for i in x_test['clean_beerTypes']:\n",
        "  preprocessed_beerTypes_te.append(i.replace(' ','_'))"
      ],
      "metadata": {
        "id": "gkPEXZ-E87-N"
      },
      "execution_count": null,
      "outputs": []
    },
    {
      "cell_type": "code",
      "source": [
        "x_train['clean_beerNames_processed'] = preprocessed_beerNames_tr\n",
        "x_train.drop('clean_beerNames',axis=1,inplace=True)\n",
        "\n",
        "x_test['clean_beerNames_processed'] = preprocessed_beerNames_te\n",
        "x_test.drop('clean_beerNames',axis=1,inplace=True)\n",
        "\n",
        "x_train['clean_beerTypes_processed'] = preprocessed_beerTypes_tr\n",
        "x_train.drop('clean_beerTypes',axis=1,inplace=True)\n",
        "\n",
        "x_test['clean_beerTypes_processed'] = preprocessed_beerTypes_te\n",
        "x_test.drop('clean_beerTypes',axis=1,inplace=True)"
      ],
      "metadata": {
        "id": "HpGDgV0O9BCm"
      },
      "execution_count": null,
      "outputs": []
    },
    {
      "cell_type": "code",
      "source": [
        "std_train_12 ,std_test_12 = categorical_vectorization(x_train['clean_beerNames_processed'],x_test['clean_beerNames_processed'])\n"
      ],
      "metadata": {
        "id": "IsBD1D9z9MdE"
      },
      "execution_count": null,
      "outputs": []
    },
    {
      "cell_type": "code",
      "source": [
        "std_train_13 ,std_test_13 = categorical_vectorization(x_train['clean_beerTypes_processed'],x_test['clean_beerTypes_processed'])\n"
      ],
      "metadata": {
        "id": "q4QSmWDD9Uqp"
      },
      "execution_count": null,
      "outputs": []
    },
    {
      "cell_type": "markdown",
      "source": [
        "######Vectorise Text Features"
      ],
      "metadata": {
        "id": "NcIvjjXA9ZCd"
      }
    },
    {
      "cell_type": "code",
      "source": [
        "tfv = TfidfVectorizer(min_df=3,  max_features=5000,\n",
        "            strip_accents='unicode', analyzer='word',token_pattern=r'\\w{1,}',\n",
        "            ngram_range=(1, 3), use_idf=1,smooth_idf=1,sublinear_tf=1,\n",
        "            stop_words = 'english')\n",
        "\n",
        "# Fitting TF-IDF to both training and test sets (semi-supervised learning)\n",
        "tfv.fit(list(x_train['clean_beerText']) + list(x_test['clean_beerText']))\n",
        "std_train_14 =  tfv.transform(x_train['clean_beerText'])\n",
        "std_test_14 = tfv.transform(x_test['clean_beerText'])"
      ],
      "metadata": {
        "colab": {
          "base_uri": "https://localhost:8080/"
        },
        "id": "rDhAsSlA9eVV",
        "outputId": "5c927e6a-25cc-4e84-96a9-9f21c768a890"
      },
      "execution_count": null,
      "outputs": [
        {
          "output_type": "stream",
          "name": "stderr",
          "text": [
            "/usr/local/lib/python3.10/dist-packages/sklearn/utils/_param_validation.py:558: FutureWarning: Passing an int for a boolean parameter is deprecated in version 1.2 and won't be supported anymore in version 1.4.\n",
            "  warnings.warn(\n"
          ]
        }
      ]
    },
    {
      "cell_type": "code",
      "source": [
        "X_tr = hstack((std_train_1,std_train_2,std_train_3,std_train_4,std_train_5,std_train_6,std_train_7,std_train_8,std_train_9,std_train_10,std_train_11,std_train_12,std_train_13,std_train_14)).tocsr()\n",
        "X_te = hstack((std_test_1,std_test_2,std_test_3,std_test_4,std_test_5,std_test_6,std_test_7,std_test_8,std_test_9,std_test_10,std_test_11,std_test_12,std_test_13,std_test_14)).tocsr()"
      ],
      "metadata": {
        "id": "1eyNZlzI9uuv"
      },
      "execution_count": null,
      "outputs": []
    },
    {
      "cell_type": "code",
      "source": [
        "print(\"Final Data matrix\")\n",
        "print(X_tr.shape, y_train.shape)\n",
        "print(X_te.shape,y_test.shape)"
      ],
      "metadata": {
        "colab": {
          "base_uri": "https://localhost:8080/"
        },
        "id": "bww8Wsa39eb-",
        "outputId": "507558c9-997b-43f1-9192-c922f826b047"
      },
      "execution_count": null,
      "outputs": [
        {
          "output_type": "stream",
          "name": "stdout",
          "text": [
            "Final Data matrix\n",
            "(9582, 5038) (9582,)\n",
            "(4107, 5038) (4107,)\n"
          ]
        }
      ]
    },
    {
      "cell_type": "code",
      "source": [
        "y_train_enc=np.array(list(y_train))\n",
        "y_test_enc=np.array(list(y_test))"
      ],
      "metadata": {
        "id": "LKZjWXnz9efn"
      },
      "execution_count": null,
      "outputs": []
    },
    {
      "cell_type": "markdown",
      "source": [
        "# RandomForest Regressor"
      ],
      "metadata": {
        "id": "x0LOvB-S_aG1"
      }
    },
    {
      "cell_type": "code",
      "source": [
        "from sklearn.ensemble import RandomForestRegressor\n",
        "from sklearn.model_selection import GridSearchCV\n",
        "\n",
        "\n",
        "\n",
        "# initialize Our first RandomForestRegressor model\n",
        "regr2 = RandomForestRegressor(max_features='sqrt')\n",
        "\n",
        "# declare parameters for hyperparameter tuning\n",
        "parameters = {'n_estimators':[100,300,500,700],'max_depth':[1,3,5]}\n",
        "\n",
        "# Perform cross validation\n",
        "clf = GridSearchCV(regr2,\n",
        "                    param_grid = parameters,\n",
        "                    scoring=\"neg_mean_squared_error\",\n",
        "                    cv = 5,\n",
        "                    n_jobs = -1,\n",
        "                    verbose = 1)\n",
        "result = clf.fit(X_tr, y_train_enc)\n",
        "\n",
        "# Summarize results\n",
        "print(result.best_params_)\n",
        "\n",
        "\n"
      ],
      "metadata": {
        "colab": {
          "base_uri": "https://localhost:8080/"
        },
        "id": "f2_Dec6D_lUF",
        "outputId": "e97f6c90-e754-4c7a-c0d1-9eca48457f7c"
      },
      "execution_count": null,
      "outputs": [
        {
          "output_type": "stream",
          "name": "stdout",
          "text": [
            "Fitting 5 folds for each of 12 candidates, totalling 60 fits\n",
            "{'max_depth': 5, 'n_estimators': 700}\n"
          ]
        }
      ]
    },
    {
      "cell_type": "code",
      "source": [
        "rfr = RandomForestRegressor(max_depth=5,n_estimators=500)\n",
        "rfr.fit(X_tr, y_train_enc)"
      ],
      "metadata": {
        "colab": {
          "base_uri": "https://localhost:8080/",
          "height": 73
        },
        "id": "CuFecVh__lX0",
        "outputId": "e52a8ead-3c28-469e-b1e3-0bb4ec30f125"
      },
      "execution_count": null,
      "outputs": [
        {
          "output_type": "execute_result",
          "data": {
            "text/plain": [
              "RandomForestRegressor(max_depth=5, n_estimators=500)"
            ],
            "text/html": [
              "<style>#sk-container-id-1 {color: black;background-color: white;}#sk-container-id-1 pre{padding: 0;}#sk-container-id-1 div.sk-toggleable {background-color: white;}#sk-container-id-1 label.sk-toggleable__label {cursor: pointer;display: block;width: 100%;margin-bottom: 0;padding: 0.3em;box-sizing: border-box;text-align: center;}#sk-container-id-1 label.sk-toggleable__label-arrow:before {content: \"▸\";float: left;margin-right: 0.25em;color: #696969;}#sk-container-id-1 label.sk-toggleable__label-arrow:hover:before {color: black;}#sk-container-id-1 div.sk-estimator:hover label.sk-toggleable__label-arrow:before {color: black;}#sk-container-id-1 div.sk-toggleable__content {max-height: 0;max-width: 0;overflow: hidden;text-align: left;background-color: #f0f8ff;}#sk-container-id-1 div.sk-toggleable__content pre {margin: 0.2em;color: black;border-radius: 0.25em;background-color: #f0f8ff;}#sk-container-id-1 input.sk-toggleable__control:checked~div.sk-toggleable__content {max-height: 200px;max-width: 100%;overflow: auto;}#sk-container-id-1 input.sk-toggleable__control:checked~label.sk-toggleable__label-arrow:before {content: \"▾\";}#sk-container-id-1 div.sk-estimator input.sk-toggleable__control:checked~label.sk-toggleable__label {background-color: #d4ebff;}#sk-container-id-1 div.sk-label input.sk-toggleable__control:checked~label.sk-toggleable__label {background-color: #d4ebff;}#sk-container-id-1 input.sk-hidden--visually {border: 0;clip: rect(1px 1px 1px 1px);clip: rect(1px, 1px, 1px, 1px);height: 1px;margin: -1px;overflow: hidden;padding: 0;position: absolute;width: 1px;}#sk-container-id-1 div.sk-estimator {font-family: monospace;background-color: #f0f8ff;border: 1px dotted black;border-radius: 0.25em;box-sizing: border-box;margin-bottom: 0.5em;}#sk-container-id-1 div.sk-estimator:hover {background-color: #d4ebff;}#sk-container-id-1 div.sk-parallel-item::after {content: \"\";width: 100%;border-bottom: 1px solid gray;flex-grow: 1;}#sk-container-id-1 div.sk-label:hover label.sk-toggleable__label {background-color: #d4ebff;}#sk-container-id-1 div.sk-serial::before {content: \"\";position: absolute;border-left: 1px solid gray;box-sizing: border-box;top: 0;bottom: 0;left: 50%;z-index: 0;}#sk-container-id-1 div.sk-serial {display: flex;flex-direction: column;align-items: center;background-color: white;padding-right: 0.2em;padding-left: 0.2em;position: relative;}#sk-container-id-1 div.sk-item {position: relative;z-index: 1;}#sk-container-id-1 div.sk-parallel {display: flex;align-items: stretch;justify-content: center;background-color: white;position: relative;}#sk-container-id-1 div.sk-item::before, #sk-container-id-1 div.sk-parallel-item::before {content: \"\";position: absolute;border-left: 1px solid gray;box-sizing: border-box;top: 0;bottom: 0;left: 50%;z-index: -1;}#sk-container-id-1 div.sk-parallel-item {display: flex;flex-direction: column;z-index: 1;position: relative;background-color: white;}#sk-container-id-1 div.sk-parallel-item:first-child::after {align-self: flex-end;width: 50%;}#sk-container-id-1 div.sk-parallel-item:last-child::after {align-self: flex-start;width: 50%;}#sk-container-id-1 div.sk-parallel-item:only-child::after {width: 0;}#sk-container-id-1 div.sk-dashed-wrapped {border: 1px dashed gray;margin: 0 0.4em 0.5em 0.4em;box-sizing: border-box;padding-bottom: 0.4em;background-color: white;}#sk-container-id-1 div.sk-label label {font-family: monospace;font-weight: bold;display: inline-block;line-height: 1.2em;}#sk-container-id-1 div.sk-label-container {text-align: center;}#sk-container-id-1 div.sk-container {/* jupyter's `normalize.less` sets `[hidden] { display: none; }` but bootstrap.min.css set `[hidden] { display: none !important; }` so we also need the `!important` here to be able to override the default hidden behavior on the sphinx rendered scikit-learn.org. See: https://github.com/scikit-learn/scikit-learn/issues/21755 */display: inline-block !important;position: relative;}#sk-container-id-1 div.sk-text-repr-fallback {display: none;}</style><div id=\"sk-container-id-1\" class=\"sk-top-container\"><div class=\"sk-text-repr-fallback\"><pre>RandomForestRegressor(max_depth=5, n_estimators=500)</pre><b>In a Jupyter environment, please rerun this cell to show the HTML representation or trust the notebook. <br />On GitHub, the HTML representation is unable to render, please try loading this page with nbviewer.org.</b></div><div class=\"sk-container\" hidden><div class=\"sk-item\"><div class=\"sk-estimator sk-toggleable\"><input class=\"sk-toggleable__control sk-hidden--visually\" id=\"sk-estimator-id-1\" type=\"checkbox\" checked><label for=\"sk-estimator-id-1\" class=\"sk-toggleable__label sk-toggleable__label-arrow\">RandomForestRegressor</label><div class=\"sk-toggleable__content\"><pre>RandomForestRegressor(max_depth=5, n_estimators=500)</pre></div></div></div></div></div>"
            ]
          },
          "metadata": {},
          "execution_count": 70
        }
      ]
    },
    {
      "cell_type": "code",
      "source": [
        "\n",
        "predict_target = rfr.predict(X_te)\n"
      ],
      "metadata": {
        "id": "guY8JqDaDtB1"
      },
      "execution_count": null,
      "outputs": []
    },
    {
      "cell_type": "code",
      "source": [
        "from sklearn.metrics import r2_score\n",
        "\n",
        "coefficient_of_dermination = r2_score(y_test_enc, predict_target)\n",
        "\n",
        "print(coefficient_of_dermination)"
      ],
      "metadata": {
        "colab": {
          "base_uri": "https://localhost:8080/"
        },
        "id": "LonguDe7_lbM",
        "outputId": "90a99639-caf6-440b-c4fe-ae114058963a"
      },
      "execution_count": null,
      "outputs": [
        {
          "output_type": "stream",
          "name": "stdout",
          "text": [
            "0.548209185214789\n"
          ]
        }
      ]
    },
    {
      "cell_type": "markdown",
      "source": [
        "# Xgboost"
      ],
      "metadata": {
        "id": "Ne704FSVD9Kp"
      }
    },
    {
      "cell_type": "code",
      "source": [
        "import xgboost as xgb\n",
        "\n",
        "# initialize Our first XGBoost model...\n",
        "regr = xgb.XGBRegressor(silent=False, random_state=15)\n",
        "#regr = MultiOutputRegressor(regr1)\n",
        "\n",
        "# declare parameters for hyperparameter tuning\n",
        "parameters = {'learning_rate':[0.01,0.1],'n_estimators':[200,300,500],'max_depth':[1,2,3]}\n",
        "\n",
        "# Perform cross validation\n",
        "clf = GridSearchCV(regr,\n",
        "                    param_grid = parameters,\n",
        "                    scoring=\"neg_mean_squared_error\",\n",
        "                    cv=2,\n",
        "                    n_jobs = -1,\n",
        "                    verbose = 1)\n",
        "result = clf.fit(X_tr, y_train_enc)\n",
        "\n",
        "# Summarize results\n",
        "print(result.best_params_)\n"
      ],
      "metadata": {
        "colab": {
          "base_uri": "https://localhost:8080/"
        },
        "id": "TcZU3KjDEErS",
        "outputId": "22b2a339-7953-4bc3-e3fc-da85f6638a1a"
      },
      "execution_count": null,
      "outputs": [
        {
          "output_type": "stream",
          "name": "stdout",
          "text": [
            "Fitting 2 folds for each of 18 candidates, totalling 36 fits\n",
            "[18:33:30] WARNING: ../src/learner.cc:767: \n",
            "Parameters: { \"silent\" } are not used.\n",
            "\n",
            "{'learning_rate': 0.1, 'max_depth': 2, 'n_estimators': 200}\n"
          ]
        }
      ]
    },
    {
      "cell_type": "code",
      "source": [
        "xgb1 = xgb.XGBRegressor(learning_rate= 0.1, max_depth= 2, n_estimators= 300)\n",
        "xgb1.fit(X_tr, y_train_enc)"
      ],
      "metadata": {
        "id": "m1ETArqVEEwx"
      },
      "execution_count": null,
      "outputs": []
    },
    {
      "cell_type": "code",
      "source": [
        "from sklearn.metrics import mean_squared_error\n",
        "from math import sqrt\n",
        "\n",
        "\n",
        "predict_target = xgb1.predict(X_te)\n",
        "\n",
        "\n"
      ],
      "metadata": {
        "id": "w6lk4h8hGyER"
      },
      "execution_count": null,
      "outputs": []
    },
    {
      "cell_type": "code",
      "source": [
        "from sklearn.metrics import r2_score\n",
        "\n",
        "coefficient_of_dermination = r2_score(y_test_enc, predict_target)\n",
        "\n",
        "print(coefficient_of_dermination)"
      ],
      "metadata": {
        "id": "a5l8eEvIGzLN"
      },
      "execution_count": null,
      "outputs": []
    },
    {
      "cell_type": "markdown",
      "source": [
        "# Conclusions"
      ],
      "metadata": {
        "id": "OAJVSG9JG_BH"
      }
    },
    {
      "cell_type": "code",
      "source": [
        "evaluation = pd.DataFrame()\n",
        "evaluation['RandomForest'] = [round((0.5250710756390778*100),2)]\n",
        "evaluation['Xgboost'] = [round((0.5717921829709902*100),2)]"
      ],
      "metadata": {
        "id": "ayd_hPBiHCwp"
      },
      "execution_count": null,
      "outputs": []
    },
    {
      "cell_type": "code",
      "source": [
        "evaluation.plot(kind='bar')"
      ],
      "metadata": {
        "id": "Oc-S5Bg2Hixo"
      },
      "execution_count": null,
      "outputs": []
    }
  ]
}